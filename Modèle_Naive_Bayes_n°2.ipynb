{
 "cells": [
  {
   "cell_type": "markdown",
   "source": [
    "## **Naive Bayes**\n",
    "### **TF-IDF**\n"
   ],
   "metadata": {}
  },
  {
   "cell_type": "markdown",
   "source": [
    "* Importation des librairies nécessaires"
   ],
   "metadata": {}
  },
  {
   "cell_type": "code",
   "execution_count": 1,
   "source": [
    "import numpy as np\n",
    "import matplotlib.pyplot as plt\n",
    "import pandas as pd\n",
    "import seaborn as sn\n",
    "import re\n",
    "import nltk\n",
    "nltk.download('stopwords')\n",
    "nltk.download('wordnet')\n",
    "nltk.download('omw-1.4')\n",
    "from nltk.corpus import stopwords\n",
    "from nltk.stem import WordNetLemmatizer\n",
    "from nltk.stem.porter import PorterStemmer\n",
    "from sklearn.metrics import confusion_matrix,accuracy_score\n",
    "from sklearn.model_selection import train_test_split\n",
    "from sklearn.naive_bayes import MultinomialNB\n",
    "from imblearn.combine import SMOTETomek\n",
    "from imblearn.over_sampling import RandomOverSampler \n",
    "from imblearn.under_sampling import RandomUnderSampler \n",
    "from sklearn.metrics import average_precision_score,precision_recall_curve\n",
    "from sklearn.metrics import auc, plot_precision_recall_curve\n",
    "from sklearn.metrics import classification_report\n",
    "\n"
   ],
   "outputs": [
    {
     "output_type": "error",
     "ename": "ModuleNotFoundError",
     "evalue": "No module named 'seaborn'",
     "traceback": [
      "\u001b[0;31m---------------------------------------------------------------------------\u001b[0m",
      "\u001b[0;31mModuleNotFoundError\u001b[0m                       Traceback (most recent call last)",
      "Input \u001b[0;32mIn [1]\u001b[0m, in \u001b[0;36m<cell line: 4>\u001b[0;34m()\u001b[0m\n\u001b[1;32m      2\u001b[0m \u001b[38;5;28;01mimport\u001b[39;00m \u001b[38;5;21;01mmatplotlib\u001b[39;00m\u001b[38;5;21;01m.\u001b[39;00m\u001b[38;5;21;01mpyplot\u001b[39;00m \u001b[38;5;28;01mas\u001b[39;00m \u001b[38;5;21;01mplt\u001b[39;00m\n\u001b[1;32m      3\u001b[0m \u001b[38;5;28;01mimport\u001b[39;00m \u001b[38;5;21;01mpandas\u001b[39;00m \u001b[38;5;28;01mas\u001b[39;00m \u001b[38;5;21;01mpd\u001b[39;00m\n\u001b[0;32m----> 4\u001b[0m \u001b[38;5;28;01mimport\u001b[39;00m \u001b[38;5;21;01mseaborn\u001b[39;00m \u001b[38;5;28;01mas\u001b[39;00m \u001b[38;5;21;01msn\u001b[39;00m\n\u001b[1;32m      5\u001b[0m \u001b[38;5;28;01mimport\u001b[39;00m \u001b[38;5;21;01mre\u001b[39;00m\n\u001b[1;32m      6\u001b[0m \u001b[38;5;28;01mimport\u001b[39;00m \u001b[38;5;21;01mnltk\u001b[39;00m\n",
      "\u001b[0;31mModuleNotFoundError\u001b[0m: No module named 'seaborn'"
     ]
    }
   ],
   "metadata": {}
  },
  {
   "cell_type": "markdown",
   "source": [
    "## **Open and load the data set**"
   ],
   "metadata": {}
  },
  {
   "cell_type": "code",
   "execution_count": 2,
   "source": [
    "\n",
    "\n",
    "df = pd.read_csv(\"spam_ham_dataset.csv\")\n",
    "df\n",
    "\n"
   ],
   "outputs": [],
   "metadata": {}
  },
  {
   "cell_type": "markdown",
   "source": [
    "## **ham/spam repartition**"
   ],
   "metadata": {}
  },
  {
   "cell_type": "code",
   "execution_count": 3,
   "source": [
    "sn.countplot(df[\"label\"])"
   ],
   "outputs": [
    {
     "output_type": "stream",
     "name": "stderr",
     "text": [
      "/home/tp-home009/bberken/.local/lib/python3.8/site-packages/seaborn/_decorators.py:36: FutureWarning: Pass the following variable as a keyword arg: x. From version 0.12, the only valid positional argument will be `data`, and passing other arguments without an explicit keyword will result in an error or misinterpretation.\n",
      "  warnings.warn(\n"
     ]
    },
    {
     "output_type": "execute_result",
     "data": {
      "text/plain": [
       "<matplotlib.axes._subplots.AxesSubplot at 0x7fedbccc4400>"
      ]
     },
     "metadata": {},
     "execution_count": 3
    },
    {
     "output_type": "display_data",
     "data": {
      "image/png": "[encoded data removed]",
      "text/plain": [
       "<Figure size 432x288 with 1 Axes>"
      ]
     },
     "metadata": {
      "needs_background": "light"
     }
    }
   ],
   "metadata": {}
  },
  {
   "cell_type": "markdown",
   "source": [
    "## **Data set view**"
   ],
   "metadata": {}
  },
  {
   "cell_type": "code",
   "execution_count": 4,
   "source": [
    "df"
   ],
   "outputs": [
    {
     "output_type": "execute_result",
     "data": {
      "text/plain": [
       "(5171, 4)"
      ]
     },
     "metadata": {},
     "execution_count": 4
    }
   ],
   "metadata": {}
  },
  {
   "cell_type": "markdown",
   "source": [
    "## **View Exemple of data** "
   ],
   "metadata": {}
  },
  {
   "cell_type": "code",
   "execution_count": 5,
   "source": [
    "df.iloc[0]\n"
   ],
   "outputs": [
    {
     "output_type": "execute_result",
     "data": {
      "text/plain": [
       "id                                                         605\n",
       "label                                                      ham\n",
       "text         Subject: enron methanol ; meter # : 988291\\nth...\n",
       "label_num                                                    0\n",
       "Name: 0, dtype: object"
      ]
     },
     "metadata": {},
     "execution_count": 5
    }
   ],
   "metadata": {}
  },
  {
   "cell_type": "markdown",
   "source": [
    "### **Message content of the above element**"
   ],
   "metadata": {}
  },
  {
   "cell_type": "code",
   "execution_count": 6,
   "source": [
    "\n",
    "df.iloc[0][\"text\"]"
   ],
   "outputs": [
    {
     "output_type": "execute_result",
     "data": {
      "text/plain": [
       "\"Subject: enron methanol ; meter # : 988291\\nthis is a follow up to the note i gave you on monday , 4 / 3 / 00 { preliminary\\nflow data provided by daren } .\\nplease override pop ' s daily volume { presently zero } to reflect daily\\nactivity you can obtain from gas control .\\nthis change is needed asap for economics purposes .\""
      ]
     },
     "metadata": {},
     "execution_count": 6
    }
   ],
   "metadata": {}
  },
  {
   "cell_type": "markdown",
   "source": [
    "## **Remove unnecessary columns**"
   ],
   "metadata": {}
  },
  {
   "cell_type": "code",
   "execution_count": 7,
   "source": [
    "df.drop(\"id\",axis=1,inplace=True)\n",
    "df.drop(\"label\",axis=1,inplace=True)\n",
    "\n"
   ],
   "outputs": [],
   "metadata": {}
  },
  {
   "cell_type": "markdown",
   "source": [
    "### **Remaining attribute of the datafram**"
   ],
   "metadata": {}
  },
  {
   "cell_type": "code",
   "execution_count": 8,
   "source": [
    "df"
   ],
   "outputs": [
    {
     "output_type": "execute_result",
     "data": {
      "text/html": [
       "<div>\n",
       "<style scoped>\n",
       "    .dataframe tbody tr th:only-of-type {\n",
       "        vertical-align: middle;\n",
       "    }\n",
       "\n",
       "    .dataframe tbody tr th {\n",
       "        vertical-align: top;\n",
       "    }\n",
       "\n",
       "    .dataframe thead th {\n",
       "        text-align: right;\n",
       "    }\n",
       "</style>\n",
       "<table border=\"1\" class=\"dataframe\">\n",
       "  <thead>\n",
       "    <tr style=\"text-align: right;\">\n",
       "      <th></th>\n",
       "      <th>text</th>\n",
       "      <th>label_num</th>\n",
       "    </tr>\n",
       "  </thead>\n",
       "  <tbody>\n",
       "    <tr>\n",
       "      <th>0</th>\n",
       "      <td>Subject: enron methanol ; meter # : 988291\\nth...</td>\n",
       "      <td>0</td>\n",
       "    </tr>\n",
       "    <tr>\n",
       "      <th>1</th>\n",
       "      <td>Subject: hpl nom for january 9 , 2001\\n( see a...</td>\n",
       "      <td>0</td>\n",
       "    </tr>\n",
       "    <tr>\n",
       "      <th>2</th>\n",
       "      <td>Subject: neon retreat\\nho ho ho , we ' re arou...</td>\n",
       "      <td>0</td>\n",
       "    </tr>\n",
       "    <tr>\n",
       "      <th>3</th>\n",
       "      <td>Subject: photoshop , windows , office . cheap ...</td>\n",
       "      <td>1</td>\n",
       "    </tr>\n",
       "    <tr>\n",
       "      <th>4</th>\n",
       "      <td>Subject: re : indian springs\\nthis deal is to ...</td>\n",
       "      <td>0</td>\n",
       "    </tr>\n",
       "    <tr>\n",
       "      <th>...</th>\n",
       "      <td>...</td>\n",
       "      <td>...</td>\n",
       "    </tr>\n",
       "    <tr>\n",
       "      <th>5166</th>\n",
       "      <td>Subject: put the 10 on the ft\\nthe transport v...</td>\n",
       "      <td>0</td>\n",
       "    </tr>\n",
       "    <tr>\n",
       "      <th>5167</th>\n",
       "      <td>Subject: 3 / 4 / 2000 and following noms\\nhpl ...</td>\n",
       "      <td>0</td>\n",
       "    </tr>\n",
       "    <tr>\n",
       "      <th>5168</th>\n",
       "      <td>Subject: calpine daily gas nomination\\n&gt;\\n&gt;\\nj...</td>\n",
       "      <td>0</td>\n",
       "    </tr>\n",
       "    <tr>\n",
       "      <th>5169</th>\n",
       "      <td>Subject: industrial worksheets for august 2000...</td>\n",
       "      <td>0</td>\n",
       "    </tr>\n",
       "    <tr>\n",
       "      <th>5170</th>\n",
       "      <td>Subject: important online banking alert\\ndear ...</td>\n",
       "      <td>1</td>\n",
       "    </tr>\n",
       "  </tbody>\n",
       "</table>\n",
       "<p>5171 rows × 2 columns</p>\n",
       "</div>"
      ],
      "text/plain": [
       "                                                   text  label_num\n",
       "0     Subject: enron methanol ; meter # : 988291\\nth...          0\n",
       "1     Subject: hpl nom for january 9 , 2001\\n( see a...          0\n",
       "2     Subject: neon retreat\\nho ho ho , we ' re arou...          0\n",
       "3     Subject: photoshop , windows , office . cheap ...          1\n",
       "4     Subject: re : indian springs\\nthis deal is to ...          0\n",
       "...                                                 ...        ...\n",
       "5166  Subject: put the 10 on the ft\\nthe transport v...          0\n",
       "5167  Subject: 3 / 4 / 2000 and following noms\\nhpl ...          0\n",
       "5168  Subject: calpine daily gas nomination\\n>\\n>\\nj...          0\n",
       "5169  Subject: industrial worksheets for august 2000...          0\n",
       "5170  Subject: important online banking alert\\ndear ...          1\n",
       "\n",
       "[5171 rows x 2 columns]"
      ]
     },
     "metadata": {},
     "execution_count": 8
    }
   ],
   "metadata": {}
  },
  {
   "cell_type": "markdown",
   "source": [
    "## **Data Cleaning**\n",
    "#### 1. *Remove Syntax*\n",
    "#### 2. *Lowering Case*\n",
    "#### 3. *Split Into An Array Of Word*\n",
    "#### 4. *Remove StopWords*\n",
    "#### 5. *Converting the word to its meaningful base*"
   ],
   "metadata": {}
  },
  {
   "cell_type": "code",
   "execution_count": 9,
   "source": [
    "\n",
    "ps = PorterStemmer()\n",
    "lm = WordNetLemmatizer() \n",
    "#Le corpus qui va contenir la liste des messages (text) tout en minuscule sans la ponctuation et les stopwords\n",
    "corpus = []\n",
    "for i in range(0, len(df[\"text\"])):\n",
    "#Suppression de tout les caractéres spéciaux\n",
    "    message = re.sub('[^a-zA-Z]', ' ',df[\"text\"][i])\n",
    "#Mettre tout le message en minuscule\n",
    "    message = message.lower()\n",
    "#Couper le message en mots\n",
    "    message = message.split()\n",
    "#Parcourir tout les mots de chaque message et les convertir en leurs forme de base significative s'il n'appratiennent pas au stops words\n",
    "    message = [lm.lemmatize(word) for word in message if not word in stopwords.words('english')]\n",
    "#Reformer le text de chaque message à partir des mots restant convertis en leurs forme de base signficative en miniscule et sans pontuation\n",
    "    message = ' '.join(message)\n",
    "#ajouter le message dans le corpus\n",
    "    corpus.append(message)"
   ],
   "outputs": [],
   "metadata": {}
  },
  {
   "cell_type": "markdown",
   "source": [
    "### **TfidfVectorizer application on the corpus**"
   ],
   "metadata": {}
  },
  {
   "cell_type": "code",
   "execution_count": 11,
   "source": [
    "#Application de TfidVectorizer pour calculer le TF et le IDF de chaque mot du text de chaque message du corpus\n",
    "#Multipler les valeurs TF*IDF pour avoir une valeur entre 0 et 1 qui représentera l'importance du mots dans le data set\n",
    "#Chaque message du corpus deviendras une liste de float représentant les mots que ce dérnier contenais\n",
    "from sklearn.feature_extraction.text import TfidfVectorizer\n",
    "cv = TfidfVectorizer()\n",
    "X = cv.fit_transform(corpus).toarray()\n",
    "X\n"
   ],
   "outputs": [
    {
     "output_type": "execute_result",
     "data": {
      "text/plain": [
       "array([[0., 0., 0., ..., 0., 0., 0.],\n",
       "       [0., 0., 0., ..., 0., 0., 0.],\n",
       "       [0., 0., 0., ..., 0., 0., 0.],\n",
       "       ...,\n",
       "       [0., 0., 0., ..., 0., 0., 0.],\n",
       "       [0., 0., 0., ..., 0., 0., 0.],\n",
       "       [0., 0., 0., ..., 0., 0., 0.]])"
      ]
     },
     "metadata": {},
     "execution_count": 11
    }
   ],
   "metadata": {}
  },
  {
   "cell_type": "markdown",
   "source": [
    "# **resampling**"
   ],
   "metadata": {}
  },
  {
   "cell_type": "markdown",
   "source": [
    "Comme on travaille sur des données déséquilibrées : \n",
    " * on appliquera sur nos données des méthodes de rééchantillonnage  : \n",
    "   * 1 => Génération d’échantillons synthétiques : qui consiste à générer des échantillons synthétiques de manière automatique et la également on distingue deux type d'algorithmes  :  \n",
    "     * i => Les algorithmes de sur-échantillonnage en créant des échantillons synthétiques à partir de la classe minoritaire au lieu de créer de simples copies.\n",
    "     * ii => Les algorithmes de Sous-échantillonnage en générant un certain nombre de centroïdes à partir des données d’origine, afin de perdre le moins d’information possible sur la classe majoritaire, lorsque celle-ci doit être réduite afin d’arriver à un ratio (classe minoritaire/ classe majoritaire) satisfaisant. \n",
    "   *  2 => Sur-échantillonnage : Oversampling  qui consiste à augmenter le nombre d'éléments de \n",
    "   la (des) classe(s) minoritaire(s) afin d’arriver à un ratio classe minoritaire/ classe majoritaire satisfaisant.\n",
    "   * 3 => Sous-échantillonnage : Undersampling  qui consiste à diminuer le nombre d'éléments de la  (des) classe(s) majoritaire(s) afin d’arriver à un ratio classe minoritaire/ classe majoritaire satisfaisant. \n",
    "   \n",
    "   "
   ],
   "metadata": {}
  },
  {
   "cell_type": "markdown",
   "source": [
    "## **1) ii )**"
   ],
   "metadata": {}
  },
  {
   "cell_type": "markdown",
   "source": [
    "* Synthetic undersampling(prend du temsp)"
   ],
   "metadata": {}
  },
  {
   "cell_type": "code",
   "execution_count": 2,
   "source": [
    "#ce modél de sous échantillonage synthetique prends énormément de temps pour s'excuter donc je ne l'ai pas inclus\n",
    "#dans la démarche de résoltion de ce probléme ainsi qu'ayant un data set de taille 5000 il est conseillé d'utiliser le sur-échantillonage.\n",
    "'''from imblearn.under_sampling import ClusterCentroids \n",
    "cc = ClusterCentroids()\n",
    "\n",
    "X_SU, Y_SU = cc.fit_resample(X,df[\"label_num\"])\n",
    "print (\"taille de x_bal : \",len(X_SU))\n",
    "print (\"taille de y_bal : \",len(Y_SU))'''"
   ],
   "outputs": [
    {
     "output_type": "execute_result",
     "data": {
      "text/plain": [
       "'from imblearn.under_sampling import ClusterCentroids \\ncc = ClusterCentroids()\\n\\nX_SU, Y_SU = cc.fit_resample(X,df[\"label_num\"])\\nprint (\"taille de x_bal : \",len(X_SU))\\nprint (\"taille de y_bal : \",len(Y_SU))'"
      ]
     },
     "metadata": {},
     "execution_count": 2
    }
   ],
   "metadata": {}
  },
  {
   "cell_type": "markdown",
   "source": [
    "## **MultinomialNB**"
   ],
   "metadata": {}
  },
  {
   "cell_type": "markdown",
   "source": [
    "* Préparation de trois modéles MultinomialNB pour l'entrainement sur les train et test set qu'on on aura choisie par la suite \n",
    "issuent de l'application des trois modél d'échantillonage"
   ],
   "metadata": {}
  },
  {
   "cell_type": "code",
   "execution_count": 53,
   "source": [
    "\n",
    "model_SO = MultinomialNB()\n",
    "model_CO = MultinomialNB()\n",
    "model_CU = MultinomialNB()\n"
   ],
   "outputs": [],
   "metadata": {}
  },
  {
   "cell_type": "markdown",
   "source": [
    "## **1 ) i )**"
   ],
   "metadata": {}
  },
  {
   "cell_type": "markdown",
   "source": [
    "## **Tests to extract the best value of \"sampling_strategy\" for Synthetic Oversampling**"
   ],
   "metadata": {}
  },
  {
   "cell_type": "markdown",
   "source": [
    "* On appliquera l'entrainement et le test du modéle MultinomialNB sur plusieurs données reéchantillonées avec le même modéle mais avec une valuer du ratio de reéchantillonage différent pour choisir et fixer le meilleur ratio pour notre cas, et donc avoir la meilleure accuracy."
   ],
   "metadata": {}
  },
  {
   "cell_type": "code",
   "execution_count": 3,
   "source": [
    "def accuracy_ratio(r):\n",
    "#Définition du modéle de reéchantillonage synthetique avec le une valeur de ratio entrée en argument de la fonction \n",
    "    smk= SMOTETomek(sampling_strategy=r)\n",
    "#Appliquer le reéchantillonage\n",
    "    X_SO, Y_SO = smk.fit_resample(X,df[\"label_num\"])\n",
    "#Partager les données reéchantillonées en train et test set\n",
    "#Appliquer l'entrainement du modél de prédiction \n",
    "# Predir avec ce dérnier et renvoiyer l'accuracy score \n",
    "    X_train_SO, X_test_SO, y_train_SO, y_test_SO = train_test_split(X_SO, Y_SO, test_size = 0.20, random_state = 0)\n",
    "    model_SO.fit(X_train_SO,y_train_SO)\n",
    "    y_pred_SO=model_SO.predict(X_test_SO)\n",
    "    return accuracy_score(y_pred_SO,y_test_SO)"
   ],
   "outputs": [],
   "metadata": {}
  },
  {
   "cell_type": "code",
   "execution_count": 55,
   "source": [
    "#Appliquer la fonction définis ci-dessus pour plusieurs ratio\n",
    "x = [accuracy_ratio(i/10) for i in range(5,11)]\n",
    "y = [(i/10) for i in range(5,11) ]"
   ],
   "outputs": [],
   "metadata": {}
  },
  {
   "cell_type": "code",
   "execution_count": 56,
   "source": [
    "#Affichage de l'accuracy score en fonction du ratio\n",
    "plt.plot(y,x, color = 'red', linestyle = 'solid', linewidth = 2,\n",
    "  markerfacecolor = 'blue', markersize = 5)\n",
    "plt.ylim(0.95, 1)\n",
    "plt.xlabel('ratio reéchantillonge')\n",
    "plt.ylabel('accuracy')\n",
    "plt.title('-Accuracy en fonction du racio du rééchantillonage-')"
   ],
   "outputs": [
    {
     "output_type": "execute_result",
     "data": {
      "text/plain": [
       "Text(0.5, 1.0, '-Accuracy en fonction du racio du rééchantillonage-')"
      ]
     },
     "metadata": {},
     "execution_count": 56
    },
    {
     "output_type": "display_data",
     "data": {
      "image/png": "[encoded data removed]",
      "text/plain": [
       "<Figure size 432x288 with 1 Axes>"
      ]
     },
     "metadata": {
      "needs_background": "light"
     }
    }
   ],
   "metadata": {}
  },
  {
   "cell_type": "markdown",
   "source": [
    "## **Remarks**"
   ],
   "metadata": {}
  },
  {
   "cell_type": "markdown",
   "source": [
    "* On remarque à partir du graphe ci-dessus, que l'accuracy varie en variant le ratio (Nb email/Nb spam) du reéchantillonage mais prés de 0.5 on a l'accuracy toujours proche de 0.95 et en 1 toujours fixe et plutôt prôche de 0.975.\n",
    "Cette variation de valeurs à chaque excution est causé par la fonction trai_test_split qui prends à chaque excution de la fonction accuracy_ratio un nouveau découpage du data set (Corpus aprés application de TF-IDF).\n",
    "* On aperçois également que l'accuracy la plus fixe à un une bonne valeur est atteinte lorsque le valeur du ratio = 1 , donc dans le cas ou les deux classes sont équilibrées (Nb mail = Nb spam)"
   ],
   "metadata": {}
  },
  {
   "cell_type": "markdown",
   "source": [
    "* En s'appuyant sur les résultats et remarques faites dans la précédente cellule, on choisira le ratio = 1 pour le sur échantillonage sythetique "
   ],
   "metadata": {}
  },
  {
   "cell_type": "markdown",
   "source": [
    "## **Synthetic Oversampling application**"
   ],
   "metadata": {}
  },
  {
   "cell_type": "code",
   "execution_count": 4,
   "source": [
    "#On applique le sur-échantillonage synthétique avec le ratio = 1\n",
    "smk= SMOTETomek(sampling_strategy=1)\n",
    "X_SO, Y_SO = smk.fit_resample(X,df[\"label_num\"])\n",
    "print (\"taille de x_bal : \",len(X_SO))\n",
    "print (\"taille de y_bal : \",len(Y_SO))"
   ],
   "outputs": [
    {
     "output_type": "error",
     "ename": "NameError",
     "evalue": "name 'SMOTETomek' is not defined",
     "traceback": [
      "\u001b[0;31m---------------------------------------------------------------------------\u001b[0m",
      "\u001b[0;31mNameError\u001b[0m                                 Traceback (most recent call last)",
      "Input \u001b[0;32mIn [4]\u001b[0m, in \u001b[0;36m<cell line: 2>\u001b[0;34m()\u001b[0m\n\u001b[1;32m      1\u001b[0m \u001b[38;5;66;03m#On applique le sur-échantillonage synthetique avec le ratio = 1\u001b[39;00m\n\u001b[0;32m----> 2\u001b[0m smk\u001b[38;5;241m=\u001b[39m \u001b[43mSMOTETomek\u001b[49m(sampling_strategy\u001b[38;5;241m=\u001b[39m\u001b[38;5;241m1\u001b[39m)\n\u001b[1;32m      3\u001b[0m X_SO, Y_SO \u001b[38;5;241m=\u001b[39m smk\u001b[38;5;241m.\u001b[39mfit_resample(X,df[\u001b[38;5;124m\"\u001b[39m\u001b[38;5;124mlabel_num\u001b[39m\u001b[38;5;124m\"\u001b[39m])\n\u001b[1;32m      4\u001b[0m \u001b[38;5;28mprint\u001b[39m (\u001b[38;5;124m\"\u001b[39m\u001b[38;5;124mtaille de x_bal : \u001b[39m\u001b[38;5;124m\"\u001b[39m,\u001b[38;5;28mlen\u001b[39m(X_SO))\n",
      "\u001b[0;31mNameError\u001b[0m: name 'SMOTETomek' is not defined"
     ]
    }
   ],
   "metadata": {}
  },
  {
   "cell_type": "markdown",
   "source": [
    "##  **Fititing & prediction with Synthetic Oversampling data**"
   ],
   "metadata": {}
  },
  {
   "cell_type": "code",
   "execution_count": 1,
   "source": [
    "#Entrainement et predicition sur les données résultantes du sur-échntillonage synthétique\n",
    "X_train_SO, X_test_SO, y_train_SO, y_test_SO = train_test_split(X_SO, Y_SO, test_size = 0.20, random_state = 0)\n",
    "model_SO.fit(X_train_SO,y_train_SO)\n",
    "y_pred_SO=model_SO.predict(X_test_SO)"
   ],
   "outputs": [
    {
     "output_type": "error",
     "ename": "NameError",
     "evalue": "name 'train_test_split' is not defined",
     "traceback": [
      "\u001b[0;31m---------------------------------------------------------------------------\u001b[0m",
      "\u001b[0;31mNameError\u001b[0m                                 Traceback (most recent call last)",
      "Input \u001b[0;32mIn [1]\u001b[0m, in \u001b[0;36m<cell line: 2>\u001b[0;34m()\u001b[0m\n\u001b[1;32m      1\u001b[0m \u001b[38;5;66;03m#Entrainement et predicition sur les données résultantes du sur-échntillonage synthétique\u001b[39;00m\n\u001b[0;32m----> 2\u001b[0m X_train_SO, X_test_SO, y_train_SO, y_test_SO \u001b[38;5;241m=\u001b[39m \u001b[43mtrain_test_split\u001b[49m(X_SO, Y_SO, test_size \u001b[38;5;241m=\u001b[39m \u001b[38;5;241m0.20\u001b[39m, random_state \u001b[38;5;241m=\u001b[39m \u001b[38;5;241m0\u001b[39m)\n\u001b[1;32m      3\u001b[0m model_SO\u001b[38;5;241m.\u001b[39mfit(X_train_SO,y_train_SO)\n\u001b[1;32m      4\u001b[0m y_pred_SO\u001b[38;5;241m=\u001b[39mmodel_SO\u001b[38;5;241m.\u001b[39mpredict(X_test_SO)\n",
      "\u001b[0;31mNameError\u001b[0m: name 'train_test_split' is not defined"
     ]
    }
   ],
   "metadata": {}
  },
  {
   "cell_type": "markdown",
   "source": [
    "# *Results*"
   ],
   "metadata": {}
  },
  {
   "cell_type": "markdown",
   "source": [
    "* Accuracy"
   ],
   "metadata": {}
  },
  {
   "cell_type": "code",
   "execution_count": 61,
   "source": [
    "print(\"L'accuracy score de la prediction avec les données resultante du sur-échantillonage synthetique : \"'AP={0:0.2f}'.format(accuracy_score(y_pred_SO,y_test_SO)))\n"
   ],
   "outputs": [
    {
     "output_type": "stream",
     "name": "stdout",
     "text": [
      "Accuracy score for prediction with data resulting by Synthetic Oversampling data\n",
      " 0.9652825051055139\n"
     ]
    }
   ],
   "metadata": {}
  },
  {
   "cell_type": "markdown",
   "source": [
    " * L'accuracy est trés hautes et elle est à seulement 3% de la perfection(100%)"
   ],
   "metadata": {}
  },
  {
   "cell_type": "markdown",
   "source": [
    "* Confusion matrix"
   ],
   "metadata": {}
  },
  {
   "cell_type": "code",
   "execution_count": 62,
   "source": [
    "data = {'y_Actual':    y_test_SO.values,\n",
    "        'y_Predicted': y_pred_SO\n",
    "        }\n",
    "d = pd.DataFrame(data, columns=['y_Actual','y_Predicted'])\n",
    "confusion_matrix = pd.crosstab(d['y_Actual'], d['y_Predicted'], rownames=['True Label'], colnames=['Predicted Label'])\n",
    "sn.heatmap(confusion_matrix, annot=True,fmt='d',xticklabels=['ham','spam'], yticklabels=['ham','spam'])\n",
    "plt.show()"
   ],
   "outputs": [
    {
     "output_type": "display_data",
     "data": {
      "image/png": "[encoded data removed]",
      "text/plain": [
       "<Figure size 432x288 with 2 Axes>"
      ]
     },
     "metadata": {
      "needs_background": "light"
     }
    }
   ],
   "metadata": {}
  },
  {
   "cell_type": "markdown",
   "source": [
    "* Score details"
   ],
   "metadata": {}
  },
  {
   "cell_type": "code",
   "execution_count": 104,
   "source": [
    "print (classification_report(y_test_SO, y_pred_SO))"
   ],
   "outputs": [
    {
     "output_type": "stream",
     "name": "stdout",
     "text": [
      "              precision    recall  f1-score   support\n",
      "\n",
      "           0       0.97      0.96      0.97       746\n",
      "           1       0.96      0.97      0.96       723\n",
      "\n",
      "    accuracy                           0.97      1469\n",
      "   macro avg       0.97      0.97      0.97      1469\n",
      "weighted avg       0.97      0.97      0.97      1469\n",
      "\n"
     ]
    }
   ],
   "metadata": {}
  },
  {
   "cell_type": "markdown",
   "source": [
    "* On remarque de la matrice de confusion et les détails du score que : \n",
    "    * Le modéle a prédit : \n",
    "        * Pour les mails  : \n",
    "            * 717 mail de 746 (les vrais postifs) => precision => 0.97\n",
    "            * 22 spam en étant des mail (les faux positifs)\n",
    "            * 29 mail en étant des spam (les faux négatifs) => recall = 0.96\n",
    "        * Pour les spams :  \n",
    "            * 701 spam de 723 (les vrais postifs)precision => 0.96\n",
    "            * 29 mail en étant des spam (les faux positifs)\n",
    "            * 22 spam en étant des mail (les faux négatifs)=> recall = 0.97\n",
    "\n",
    "\n",
    "* Comme on a une quantité de données importante, les résultat de la précision et du rappel sont satisfaisants car sur l'ensemble de données il y en a trés peu de mail qui passe en spam(ce qui est un peu grave sur une quantité mois importante de donées) et peu de spam qui passe en mail (ce n'est pas trop grave).\n",
    "    "
   ],
   "metadata": {}
  },
  {
   "cell_type": "markdown",
   "source": [
    "* average precisiion & auc precision recall"
   ],
   "metadata": {}
  },
  {
   "cell_type": "code",
   "execution_count": 103,
   "source": [
    "average_precision_SO = average_precision_score(y_true=y_test_SO, y_score=y_pred_SO)\n",
    "precision_SO, recall_SO, thresholds_SO = precision_recall_curve(y_test_SO, y_pred_SO)\n",
    "auc_precision_recall_SO = auc(recall_SO, precision_SO)\n",
    "print('La valeur de l''average precision est : ''AP={0:0.2f}'.format(average_precision_SO))\n",
    "print('La valeur de l''air sous la courbe de precision et rappelle est : ''AP={0:0.2f}'.format(auc_precision_recall_SO))"
   ],
   "outputs": [
    {
     "output_type": "stream",
     "name": "stdout",
     "text": [
      "0.9460301919646419\n",
      "0.9724106889264844\n"
     ]
    }
   ],
   "metadata": {}
  },
  {
   "cell_type": "code",
   "execution_count": 106,
   "source": [
    "\n",
    "disp = plot_precision_recall_curve(model_SO, X_test_SO, y_test_SO)\n",
    "disp.ax_.set_title('SSO Precision-Recall curve: '\n",
    "                   'AP={0:0.2f}'.format(average_precision_SO))"
   ],
   "outputs": [
    {
     "output_type": "execute_result",
     "data": {
      "text/plain": [
       "Text(0.5, 1.0, 'SSO Precision-Recall curve: AP=0.95')"
      ]
     },
     "metadata": {},
     "execution_count": 106
    },
    {
     "output_type": "display_data",
     "data": {
      "image/png": "[encoded data removed]",
      "text/plain": [
       "<Figure size 432x288 with 1 Axes>"
      ]
     },
     "metadata": {
      "needs_background": "light"
     }
    }
   ],
   "metadata": {}
  },
  {
   "cell_type": "markdown",
   "source": [
    "* On voit sur la courbe qu'elle est presque parfaite, car la precision et le rappelle de ce dérnier sont trés elevés,ainni qu'on peut apercevoir du bruit de precison te rappelle prés de  1 car ces dérnier ne sont pas tout à fait parfait."
   ],
   "metadata": {}
  },
  {
   "cell_type": "markdown",
   "source": [
    "# **2)**"
   ],
   "metadata": {}
  },
  {
   "cell_type": "markdown",
   "source": [
    "## **Tests to extract the best value of \"sampling_strategy\" for Classique Oversampling**"
   ],
   "metadata": {}
  },
  {
   "cell_type": "code",
   "execution_count": 7,
   "source": [
    "def accuracy_ratio(r):\n",
    "#Définition du modéle de reéchantillonage classique avec le une valeur de ratio entrée en argument de la fonction \n",
    "    ros = RandomOverSampler(sampling_strategy=r)\n",
    "#Appliquer le reéchantillonage\n",
    "    X_CO, Y_CO = ros.fit_resample(X,df[\"label_num\"])\n",
    "#Partager les données reéchantillonées en train et test set\n",
    "#Appliquer l'entrainement du modél de prédiction \n",
    "#Predir avec ce dérnier et renvoiyer l'accuracy score \n",
    "    X_train_CO, X_test_CO, y_train_CO, y_test_CO = train_test_split(X_CO, Y_CO, test_size = 0.20, random_state = 0)\n",
    "    model_CO.fit(X_train_CO,y_train_CO)\n",
    "    y_pred_CO=model_CO.predict(X_test_CO)\n",
    "    return accuracy_score(y_pred_CO,y_test_CO)"
   ],
   "outputs": [],
   "metadata": {}
  },
  {
   "cell_type": "code",
   "execution_count": 65,
   "source": [
    "#Appliquer la fonction définis ci-dessus pour plusieurs ratio\n",
    "x = [accuracy_ratio(i/10) for i in range(5,11)]\n",
    "y = [(i/10) for i in range(5,11)]"
   ],
   "outputs": [],
   "metadata": {}
  },
  {
   "cell_type": "code",
   "execution_count": 67,
   "source": [
    "#Affichage de l'accuracy score en fonction du ratio\n",
    "plt.plot(y,x, color = 'blue', linestyle = 'solid', linewidth = 2,\n",
    "  markerfacecolor = 'blue', markersize = 5)\n",
    "plt.ylim(0.95, 1)\n",
    "plt.xlabel('ratio reéchantillonge')\n",
    "plt.ylabel('accuracy')\n",
    "\n",
    "plt.title('-Accuracy en fonction du racio du rééchantillonage-')"
   ],
   "outputs": [
    {
     "output_type": "execute_result",
     "data": {
      "text/plain": [
       "Text(0.5, 1.0, '-Accuracy en fonction du racio du rééchantillonage-')"
      ]
     },
     "metadata": {},
     "execution_count": 67
    },
    {
     "output_type": "display_data",
     "data": {
      "image/png": "[encoded data removed]",
      "text/plain": [
       "<Figure size 432x288 with 1 Axes>"
      ]
     },
     "metadata": {
      "needs_background": "light"
     }
    }
   ],
   "metadata": {}
  },
  {
   "cell_type": "markdown",
   "source": [
    "## **Remarks**"
   ],
   "metadata": {}
  },
  {
   "cell_type": "markdown",
   "source": [
    " * Mêmes remrques pour le model d'échantillonage précédent le meilleur ratio est r =0.9 pi r = 1"
   ],
   "metadata": {}
  },
  {
   "cell_type": "markdown",
   "source": [
    "## **Classic Oversampling application**"
   ],
   "metadata": {}
  },
  {
   "cell_type": "code",
   "execution_count": 2,
   "source": [
    "#On applique le sur-échantillonage classique avec le ratio = 1\n",
    "ros = RandomOverSampler(sampling_strategy=1)\n",
    "X_CO, Y_CO = ros.fit_resample(X,df[\"label_num\"])\n",
    "\n",
    "print (\"taille de x_bal : \",len(X_CO))\n",
    "print (\"taille de y_bal : \",len(Y_CO))"
   ],
   "outputs": [
    {
     "output_type": "error",
     "ename": "NameError",
     "evalue": "name 'RandomOverSampler' is not defined",
     "traceback": [
      "\u001b[0;31m---------------------------------------------------------------------------\u001b[0m",
      "\u001b[0;31mNameError\u001b[0m                                 Traceback (most recent call last)",
      "Input \u001b[0;32mIn [2]\u001b[0m, in \u001b[0;36m<cell line: 2>\u001b[0;34m()\u001b[0m\n\u001b[1;32m      1\u001b[0m \u001b[38;5;66;03m#On applique le sur-échantillonage classique avec le ratio = 1\u001b[39;00m\n\u001b[0;32m----> 2\u001b[0m ros \u001b[38;5;241m=\u001b[39m \u001b[43mRandomOverSampler\u001b[49m(sampling_strategy\u001b[38;5;241m=\u001b[39m\u001b[38;5;241m1\u001b[39m)\n\u001b[1;32m      3\u001b[0m X_CO, Y_CO \u001b[38;5;241m=\u001b[39m ros\u001b[38;5;241m.\u001b[39mfit_resample(X,df[\u001b[38;5;124m\"\u001b[39m\u001b[38;5;124mlabel_num\u001b[39m\u001b[38;5;124m\"\u001b[39m])\n\u001b[1;32m      5\u001b[0m \u001b[38;5;28mprint\u001b[39m (\u001b[38;5;124m\"\u001b[39m\u001b[38;5;124mtaille de x_bal : \u001b[39m\u001b[38;5;124m\"\u001b[39m,\u001b[38;5;28mlen\u001b[39m(X_CO))\n",
      "\u001b[0;31mNameError\u001b[0m: name 'RandomOverSampler' is not defined"
     ]
    }
   ],
   "metadata": {}
  },
  {
   "cell_type": "markdown",
   "source": [
    "## **Fititing & prediction with classic Oversampling data**\n"
   ],
   "metadata": {}
  },
  {
   "cell_type": "code",
   "execution_count": 3,
   "source": [
    "#Entrainement et predicition sur les données résultantes du sur-échantillonage classique\n",
    "X_train_CO, X_test_CO, y_train_CO, y_test_CO = train_test_split(X_CO, Y_CO, test_size = 0.20, random_state = 0)\n",
    "model_CO.fit(X_train_CO,y_train_CO)\n",
    "y_pred_CO=model_CO.predict(X_test_CO)"
   ],
   "outputs": [
    {
     "output_type": "error",
     "ename": "NameError",
     "evalue": "name 'train_test_split' is not defined",
     "traceback": [
      "\u001b[0;31m---------------------------------------------------------------------------\u001b[0m",
      "\u001b[0;31mNameError\u001b[0m                                 Traceback (most recent call last)",
      "Input \u001b[0;32mIn [3]\u001b[0m, in \u001b[0;36m<cell line: 2>\u001b[0;34m()\u001b[0m\n\u001b[1;32m      1\u001b[0m \u001b[38;5;66;03m#Entrainement et predicition sur les données résultantes du sur-échantillonage classique\u001b[39;00m\n\u001b[0;32m----> 2\u001b[0m X_train_CO, X_test_CO, y_train_CO, y_test_CO \u001b[38;5;241m=\u001b[39m \u001b[43mtrain_test_split\u001b[49m(X_CO, Y_CO, test_size \u001b[38;5;241m=\u001b[39m \u001b[38;5;241m0.20\u001b[39m, random_state \u001b[38;5;241m=\u001b[39m \u001b[38;5;241m0\u001b[39m)\n\u001b[1;32m      3\u001b[0m model_CO\u001b[38;5;241m.\u001b[39mfit(X_train_CO,y_train_CO)\n\u001b[1;32m      4\u001b[0m y_pred_CO\u001b[38;5;241m=\u001b[39mmodel_CO\u001b[38;5;241m.\u001b[39mpredict(X_test_CO)\n",
      "\u001b[0;31mNameError\u001b[0m: name 'train_test_split' is not defined"
     ]
    }
   ],
   "metadata": {}
  },
  {
   "cell_type": "markdown",
   "source": [
    "# *Results*"
   ],
   "metadata": {}
  },
  {
   "cell_type": "markdown",
   "source": [
    "* Acuuracy"
   ],
   "metadata": {}
  },
  {
   "cell_type": "code",
   "execution_count": 70,
   "source": [
    "\n",
    "print(\"Accuracy score:for prediction with data resulting by classic Oversampling data : \"'AP={0:0.2f}'.format(accuracy_score(y_pred_CO,y_test_CO)))"
   ],
   "outputs": [
    {
     "output_type": "stream",
     "name": "stdout",
     "text": [
      "Accuracy score:for prediction with data resulting by Classique Oversampling data\n",
      " 0.9734513274336283\n"
     ]
    }
   ],
   "metadata": {}
  },
  {
   "cell_type": "markdown",
   "source": [
    "* L'accuracy obtnue est presque égale à celle obtenue en utilsant le réchantillonage synthetique."
   ],
   "metadata": {}
  },
  {
   "cell_type": "markdown",
   "source": [
    "* Confusion matrix"
   ],
   "metadata": {}
  },
  {
   "cell_type": "code",
   "execution_count": 71,
   "source": [
    "data = {'y_Actual':    y_test_CO.values,\n",
    "        'y_Predicted': y_pred_CO\n",
    "        }\n",
    "d = pd.DataFrame(data, columns=['y_Actual','y_Predicted'])\n",
    "confusion_matrix = pd.crosstab(d['y_Actual'], d['y_Predicted'], rownames=['True Label'], colnames=['Predicted Label'])\n",
    "sn.heatmap(confusion_matrix, annot=True,fmt='d',xticklabels=['ham','spam'], yticklabels=['ham','spam'])\n",
    "plt.show()"
   ],
   "outputs": [
    {
     "output_type": "display_data",
     "data": {
      "image/png": "[encoded data removed]",
      "text/plain": [
       "<Figure size 432x288 with 2 Axes>"
      ]
     },
     "metadata": {
      "needs_background": "light"
     }
    }
   ],
   "metadata": {}
  },
  {
   "cell_type": "markdown",
   "source": [
    "* Score details"
   ],
   "metadata": {}
  },
  {
   "cell_type": "code",
   "execution_count": 101,
   "source": [
    "print (classification_report(y_test_CO, y_pred_CO))"
   ],
   "outputs": [
    {
     "output_type": "stream",
     "name": "stdout",
     "text": [
      "              precision    recall  f1-score   support\n",
      "\n",
      "           0       0.98      0.97      0.97       751\n",
      "           1       0.97      0.98      0.97       718\n",
      "\n",
      "    accuracy                           0.97      1469\n",
      "   macro avg       0.97      0.97      0.97      1469\n",
      "weighted avg       0.97      0.97      0.97      1469\n",
      "\n"
     ]
    }
   ],
   "metadata": {}
  },
  {
   "cell_type": "markdown",
   "source": [
    "* On remarque de la matrice de confusion et les détails du score que : \n",
    "    * Le modéle a prédit : \n",
    "        * Pour les mails  : \n",
    "            * 728 mail de 751 (les vrais postifs) => precision => 0.98\n",
    "            * 16 spam en étant des mail (les faux positifs)\n",
    "            * 23 mail en étant des spam (les faux négatifs) => recall = 0.97\n",
    "        * Pour les spams :  \n",
    "            * 702 spam de 718 (les vrais postifs)precision => 0.97\n",
    "            * 23 mail en étant des spam (les faux positifs)\n",
    "            * 16 spam en étant des mail (les faux négatifs)=> recall = 0.98\n",
    "\n",
    "\n",
    "* Vu la quantité de données importantes, les valeurs de la précision, recall et l'accuracy sont trés bonne valeurs qui démontre que le modél est bien entrainer."
   ],
   "metadata": {}
  },
  {
   "cell_type": "markdown",
   "source": [
    " * average precision & precision recall curve"
   ],
   "metadata": {}
  },
  {
   "cell_type": "code",
   "execution_count": 99,
   "source": [
    "average_precision_CO = average_precision_score(y_true=y_test_CO, y_score=y_pred_CO)\n",
    "precision_CO, recall_CO, thresholds_CO = precision_recall_curve(y_test_CO, y_pred_CO)\n",
    "auc_precision_recall_CO = auc(recall_CO, precision_CO)\n",
    "print('La valeur de l''average precision est : ''AP={0:0.2f}'.format(average_precision_CO))\n",
    "print('La valeur de l''air sous la courbe de precision et rappelle est : ''AP={0:0.2f}'.format(auc_precision_recall_CO))"
   ],
   "outputs": [
    {
     "output_type": "stream",
     "name": "stdout",
     "text": [
      "0.9575904471882943\n",
      "0.9784417513052219\n"
     ]
    }
   ],
   "metadata": {}
  },
  {
   "cell_type": "code",
   "execution_count": 108,
   "source": [
    "disp = plot_precision_recall_curve(model_CO, X_test_CO, y_test_CO)\n",
    "disp.ax_.set_title('COS Precision-Recall curve: '\n",
    "                   'AP={0:0.2f}'.format(average_precision_CO))"
   ],
   "outputs": [
    {
     "output_type": "execute_result",
     "data": {
      "text/plain": [
       "Text(0.5, 1.0, 'COS Precision-Recall curve: AP=0.96')"
      ]
     },
     "metadata": {},
     "execution_count": 108
    },
    {
     "output_type": "display_data",
     "data": {
      "image/png": "[encoded data removed]",
      "text/plain": [
       "<Figure size 432x288 with 1 Axes>"
      ]
     },
     "metadata": {
      "needs_background": "light"
     }
    }
   ],
   "metadata": {}
  },
  {
   "cell_type": "markdown",
   "source": [
    "* On voit sur la courbe qu'elle est également presque parfaite mais avec un peu plus de bruit prés de 1 que la courbe obtenue par la prediction faite sur les données issues du sur-échantillonage synthetique. "
   ],
   "metadata": {}
  },
  {
   "cell_type": "markdown",
   "source": [
    "## **3 )**"
   ],
   "metadata": {}
  },
  {
   "cell_type": "markdown",
   "source": [
    "## **Tests to extract the best value of \"sampling_strategy\" for Classique Undersampling**"
   ],
   "metadata": {}
  },
  {
   "cell_type": "code",
   "execution_count": 72,
   "source": [
    "def accuracy_ratio(r):\n",
    "#Définition du modéle de reéchantillonage classique avec le une valeur de ratio entrée en argument de la fonction \n",
    "    rus = RandomUnderSampler(sampling_strategy=r)\n",
    "#Appliquer le reéchantillonage\n",
    "    X_CU, Y_CU = rus.fit_resample(X,df[\"label_num\"])\n",
    "#Partager les données reéchantillonées en train et test set\n",
    "#Appliquer l'entrainement du modél de prédiction \n",
    "#Predir avec ce dérnier et renvoiyer l'accuracy score \n",
    "    X_train_CU, X_test_CU, y_train_CU, y_test_CU = train_test_split(X_CU, Y_CU, test_size = 0.20, random_state = 0)\n",
    "    model_CU.fit(X_train_CU,y_train_CU)\n",
    "    y_pred_CU=model_CU.predict(X_test_CU)\n",
    "    return accuracy_score(y_pred_CU,y_test_CU)"
   ],
   "outputs": [],
   "metadata": {}
  },
  {
   "cell_type": "code",
   "execution_count": 78,
   "source": [
    "#Appliquer la fonction définis ci-dessus pour plusieurs ratio\n",
    "x = [accuracy_ratio(i/10) for i in range(5,11)]\n",
    "y = [(i/10) for i in range(5,11)]"
   ],
   "outputs": [],
   "metadata": {}
  },
  {
   "cell_type": "code",
   "execution_count": 79,
   "source": [
    "#Affichage de l'accuracy score en fonctio du ratio \n",
    "plt.plot(y,x, color = 'blue', linestyle = 'solid', linewidth = 2,\n",
    "  markerfacecolor = 'blue', markersize = 5)\n",
    "plt.ylim(0.92, 1)\n",
    "plt.xlabel('ratio reéchantillonge')\n",
    "plt.ylabel('accuracy')\n",
    "\n",
    "plt.title('-Accuracy en fonction du racio du rééchantillonage-')"
   ],
   "outputs": [
    {
     "output_type": "execute_result",
     "data": {
      "text/plain": [
       "Text(0.5, 1.0, '-Accuracy en fonction du racio du rééchantillonage-')"
      ]
     },
     "metadata": {},
     "execution_count": 79
    },
    {
     "output_type": "display_data",
     "data": {
      "image/png": "[encoded data removed]",
      "text/plain": [
       "<Figure size 432x288 with 1 Axes>"
      ]
     },
     "metadata": {
      "needs_background": "light"
     }
    }
   ],
   "metadata": {}
  },
  {
   "cell_type": "markdown",
   "source": [
    "# **Remarks**"
   ],
   "metadata": {}
  },
  {
   "cell_type": "markdown",
   "source": [
    "* Pour ce modéle on remrque que la meilleure valeur du ratio est toujours 1, donc on prendra la valeur 1 pour le paramétre ratio lors du reéchantillonage avec ce modéle"
   ],
   "metadata": {}
  },
  {
   "cell_type": "markdown",
   "source": [
    "## **Classic Undersampling application**"
   ],
   "metadata": {}
  },
  {
   "cell_type": "code",
   "execution_count": 4,
   "source": [
    "#On applique le sous-échantillonage classique avec le ratio = 1\n",
    "rus = RandomUnderSampler(sampling_strategy=1)\n",
    "X_CU, Y_CU = rus.fit_resample(X,df[\"label_num\"])\n",
    "\n",
    "print (\"taille de x_bal : \",len(X_CU))\n",
    "print (\"taille de y_bal : \",len(Y_CU))"
   ],
   "outputs": [
    {
     "output_type": "error",
     "ename": "NameError",
     "evalue": "name 'RandomUnderSampler' is not defined",
     "traceback": [
      "\u001b[0;31m---------------------------------------------------------------------------\u001b[0m",
      "\u001b[0;31mNameError\u001b[0m                                 Traceback (most recent call last)",
      "Input \u001b[0;32mIn [4]\u001b[0m, in \u001b[0;36m<cell line: 2>\u001b[0;34m()\u001b[0m\n\u001b[1;32m      1\u001b[0m \u001b[38;5;66;03m#On applique le sous-échantillonage classique avec le ratio = 1\u001b[39;00m\n\u001b[0;32m----> 2\u001b[0m rus \u001b[38;5;241m=\u001b[39m \u001b[43mRandomUnderSampler\u001b[49m(sampling_strategy\u001b[38;5;241m=\u001b[39m\u001b[38;5;241m1\u001b[39m)\n\u001b[1;32m      3\u001b[0m X_CU, Y_CU \u001b[38;5;241m=\u001b[39m rus\u001b[38;5;241m.\u001b[39mfit_resample(X,df[\u001b[38;5;124m\"\u001b[39m\u001b[38;5;124mlabel_num\u001b[39m\u001b[38;5;124m\"\u001b[39m])\n\u001b[1;32m      5\u001b[0m \u001b[38;5;28mprint\u001b[39m (\u001b[38;5;124m\"\u001b[39m\u001b[38;5;124mtaille de x_bal : \u001b[39m\u001b[38;5;124m\"\u001b[39m,\u001b[38;5;28mlen\u001b[39m(X_CU))\n",
      "\u001b[0;31mNameError\u001b[0m: name 'RandomUnderSampler' is not defined"
     ]
    }
   ],
   "metadata": {}
  },
  {
   "cell_type": "markdown",
   "source": [
    "# **Fititing & prediction with Classique Undersampling data**"
   ],
   "metadata": {}
  },
  {
   "cell_type": "code",
   "execution_count": 5,
   "source": [
    "#Entrainement et predicition sur les données résultantes du sous-échantillonage classique\n",
    "X_train_CU, X_test_CU, y_train_CU, y_test_CU = train_test_split(X_CU, Y_CU, test_size = 0.20, random_state = 0)\n",
    "model_CU.fit(X_train_CU,y_train_CU)\n",
    "y_pred_CU=model_CU.predict(X_test_CU)"
   ],
   "outputs": [
    {
     "output_type": "error",
     "ename": "NameError",
     "evalue": "name 'train_test_split' is not defined",
     "traceback": [
      "\u001b[0;31m---------------------------------------------------------------------------\u001b[0m",
      "\u001b[0;31mNameError\u001b[0m                                 Traceback (most recent call last)",
      "Input \u001b[0;32mIn [5]\u001b[0m, in \u001b[0;36m<cell line: 2>\u001b[0;34m()\u001b[0m\n\u001b[1;32m      1\u001b[0m \u001b[38;5;66;03m#Entrainement et predicition sur les données résultantes du sous-échantillonage classique\u001b[39;00m\n\u001b[0;32m----> 2\u001b[0m X_train_CU, X_test_CU, y_train_CU, y_test_CU \u001b[38;5;241m=\u001b[39m \u001b[43mtrain_test_split\u001b[49m(X_CU, Y_CU, test_size \u001b[38;5;241m=\u001b[39m \u001b[38;5;241m0.20\u001b[39m, random_state \u001b[38;5;241m=\u001b[39m \u001b[38;5;241m0\u001b[39m)\n\u001b[1;32m      3\u001b[0m model_CU\u001b[38;5;241m.\u001b[39mfit(X_train_CU,y_train_CU)\n\u001b[1;32m      4\u001b[0m y_pred_CU\u001b[38;5;241m=\u001b[39mmodel_CU\u001b[38;5;241m.\u001b[39mpredict(X_test_CU)\n",
      "\u001b[0;31mNameError\u001b[0m: name 'train_test_split' is not defined"
     ]
    }
   ],
   "metadata": {}
  },
  {
   "cell_type": "markdown",
   "source": [
    "# *Results*"
   ],
   "metadata": {}
  },
  {
   "cell_type": "markdown",
   "source": [
    "* Accuracy"
   ],
   "metadata": {}
  },
  {
   "cell_type": "code",
   "execution_count": 6,
   "source": [
    "print(\"Accuracy score for prediction with data resulting by Classic Undersampling data : \"'AP={0:0.2f}'.format(accuracy_score(y_pred_CU,y_test_CU)))\n"
   ],
   "outputs": [
    {
     "output_type": "error",
     "ename": "NameError",
     "evalue": "name 'accuracy_score' is not defined",
     "traceback": [
      "\u001b[0;31m---------------------------------------------------------------------------\u001b[0m",
      "\u001b[0;31mNameError\u001b[0m                                 Traceback (most recent call last)",
      "Input \u001b[0;32mIn [6]\u001b[0m, in \u001b[0;36m<cell line: 1>\u001b[0;34m()\u001b[0m\n\u001b[0;32m----> 1\u001b[0m \u001b[38;5;28mprint\u001b[39m(\u001b[38;5;124m\"\u001b[39m\u001b[38;5;124mAccuracy score for prediction with data resulting by Classic Undersampling data : \u001b[39m\u001b[38;5;124m\"\u001b[39m\u001b[38;5;124m'\u001b[39m\u001b[38;5;124mAP=\u001b[39m\u001b[38;5;132;01m{0:0.2f}\u001b[39;00m\u001b[38;5;124m'\u001b[39m\u001b[38;5;241m.\u001b[39mformat(\u001b[43maccuracy_score\u001b[49m(y_pred_CU,y_test_CU)))\n",
      "\u001b[0;31mNameError\u001b[0m: name 'accuracy_score' is not defined"
     ]
    }
   ],
   "metadata": {}
  },
  {
   "cell_type": "markdown",
   "source": [
    " * L'accuracy de ce modéle est légerement moins bonne(1% en moins) en comparant avec l'accuracy obtenue en entrainant les données resultantes des deux modéles de sur-échantillonage "
   ],
   "metadata": {}
  },
  {
   "cell_type": "markdown",
   "source": [
    "* Confusion matrix"
   ],
   "metadata": {}
  },
  {
   "cell_type": "code",
   "execution_count": 95,
   "source": [
    "data = {'y_Actual':    y_test_CU.values,\n",
    "        'y_Predicted': y_pred_CU\n",
    "        }\n",
    "d = pd.DataFrame(data, columns=['y_Actual','y_Predicted'])\n",
    "confusion_matrix = pd.crosstab(d['y_Actual'], d['y_Predicted'], rownames=['True Label'], colnames=['Predicted Label'])\n",
    "sn.heatmap(confusion_matrix, annot=True,fmt='d',xticklabels=['ham','spam'], yticklabels=['ham','spam'])\n",
    "plt.show()\n",
    "\n",
    "\n",
    "\n"
   ],
   "outputs": [
    {
     "output_type": "display_data",
     "data": {
      "image/png": "[encoded data removed]",
      "text/plain": [
       "<Figure size 432x288 with 2 Axes>"
      ]
     },
     "metadata": {
      "needs_background": "light"
     }
    },
    {
     "output_type": "stream",
     "name": "stdout",
     "text": [
      "              precision    recall  f1-score   support\n",
      "\n",
      "           0       0.98      0.95      0.97       346\n",
      "           1       0.94      0.98      0.96       254\n",
      "\n",
      "    accuracy                           0.96       600\n",
      "   macro avg       0.96      0.96      0.96       600\n",
      "weighted avg       0.96      0.96      0.96       600\n",
      "\n"
     ]
    }
   ],
   "metadata": {}
  },
  {
   "cell_type": "markdown",
   "source": [
    " * Score details"
   ],
   "metadata": {}
  },
  {
   "cell_type": "code",
   "execution_count": 96,
   "source": [
    "print (classification_report(y_test_CU, y_pred_CU))"
   ],
   "outputs": [
    {
     "output_type": "stream",
     "name": "stdout",
     "text": [
      "              precision    recall  f1-score   support\n",
      "\n",
      "           0       0.98      0.95      0.97       346\n",
      "           1       0.94      0.98      0.96       254\n",
      "\n",
      "    accuracy                           0.96       600\n",
      "   macro avg       0.96      0.96      0.96       600\n",
      "weighted avg       0.96      0.96      0.96       600\n",
      "\n"
     ]
    }
   ],
   "metadata": {}
  },
  {
   "cell_type": "markdown",
   "source": [
    "* On remarque de la matrice de confusion et les détails du score que : \n",
    "    * Le modéle a prédit : \n",
    "        * Pour les mails  : \n",
    "            * 329 mail de 346 (les vrais postifs) => precision => 0.98\n",
    "            * 6 spam en étant des mail (les faux positifs)\n",
    "            * 17 mail en étant des spam (les faux négatifs) => recall = 0.95\n",
    "        * Pour les spams :  \n",
    "            * 248 spam de 236 (les vrais postifs)precision => 0.94\n",
    "            * 17 mail en étant des spam (les faux positifs)\n",
    "            * 6 spam en étant des mail (les faux négatifs)=> recall = 0.98\n",
    "\n",
    "\n",
    "* On remarques qu'avec moins de données, le nombre de mail classé comme spam (vis vers ça) diminue, c'est pourquoi on a obtenue une haute valeur de précision et de recall."
   ],
   "metadata": {}
  },
  {
   "cell_type": "markdown",
   "source": [
    "* average precision & auc precision recall"
   ],
   "metadata": {}
  },
  {
   "cell_type": "code",
   "execution_count": 97,
   "source": [
    "average_precision_CU = average_precision_score(y_true=y_test_CU, y_score=y_pred_CU)\n",
    "precision_CU, recall_CU, thresholds_CU = precision_recall_curve(y_test_CU, y_pred_CU)\n",
    "auc_precision_recall_CU = auc(recall_CU, precision_CU)\n",
    "print('La valeur de l''average precision est : ''AP={0:0.2f}'.format(average_precision_CU))\n",
    "print('La valeur de l''air sous la courbe de precision et rappelle est : ''AP={0:0.2f}'.format(auc_precision_recall_CU))"
   ],
   "outputs": [
    {
     "output_type": "stream",
     "name": "stdout",
     "text": [
      "0.9237423859753381\n",
      "0.9611135046798396\n"
     ]
    }
   ],
   "metadata": {}
  },
  {
   "cell_type": "code",
   "execution_count": 110,
   "source": [
    "disp = plot_precision_recall_curve(model_CU, X_test_CU, y_test_CU)\n",
    "disp.ax_.set_title('CSU Precision-Recall curve: '\n",
    "                   'AP={0:0.2f}'.format(average_precision_CU))"
   ],
   "outputs": [
    {
     "output_type": "execute_result",
     "data": {
      "text/plain": [
       "Text(0.5, 1.0, 'CSU Precision-Recall curve: AP=0.92')"
      ]
     },
     "metadata": {},
     "execution_count": 110
    },
    {
     "output_type": "display_data",
     "data": {
      "image/png": "[encoded data removed]",
      "text/plain": [
       "<Figure size 432x288 with 1 Axes>"
      ]
     },
     "metadata": {
      "needs_background": "light"
     }
    }
   ],
   "metadata": {}
  },
  {
   "cell_type": "markdown",
   "source": [
    "* On peut facilement remarquer que la courbe contient beaucoup plus de bruit (des erreurs de precision et rappel) par rapport au deux courbes précédentes, ce qui est logique car les scores obtenus en utilisant les données issues de ce sous-échantillonage classique sont légérement moins bon que ceux obtenues avec les deux précédents modéles."
   ],
   "metadata": {}
  },
  {
   "cell_type": "markdown",
   "source": [
    "## **Results**\n",
    "   "
   ],
   "metadata": {}
  },
  {
   "cell_type": "code",
   "execution_count": 13,
   "source": [
    "plt.plot(recall_SO, precision_SO)\n",
    "plt.plot(recall_CO, precision_CO)\n",
    "plt.plot(recall_CU, precision_CU)\n",
    "plt.show()"
   ],
   "outputs": [
    {
     "output_type": "error",
     "ename": "NameError",
     "evalue": "name 'recall_SO' is not defined",
     "traceback": [
      "\u001b[0;31m---------------------------------------------------------------------------\u001b[0m",
      "\u001b[0;31mNameError\u001b[0m                                 Traceback (most recent call last)",
      "\u001b[0;32m<ipython-input-13-e6ecb5787b3f>\u001b[0m in \u001b[0;36m<module>\u001b[0;34m\u001b[0m\n\u001b[0;32m----> 1\u001b[0;31m \u001b[0mplt\u001b[0m\u001b[0;34m.\u001b[0m\u001b[0mplot\u001b[0m\u001b[0;34m(\u001b[0m\u001b[0mrecall_SO\u001b[0m\u001b[0;34m,\u001b[0m \u001b[0mprecision_SO\u001b[0m\u001b[0;34m)\u001b[0m\u001b[0;34m\u001b[0m\u001b[0;34m\u001b[0m\u001b[0m\n\u001b[0m\u001b[1;32m      2\u001b[0m \u001b[0mplt\u001b[0m\u001b[0;34m.\u001b[0m\u001b[0mplot\u001b[0m\u001b[0;34m(\u001b[0m\u001b[0mrecall_CO\u001b[0m\u001b[0;34m,\u001b[0m \u001b[0mprecision_CO\u001b[0m\u001b[0;34m)\u001b[0m\u001b[0;34m\u001b[0m\u001b[0;34m\u001b[0m\u001b[0m\n\u001b[1;32m      3\u001b[0m \u001b[0mplt\u001b[0m\u001b[0;34m.\u001b[0m\u001b[0mplot\u001b[0m\u001b[0;34m(\u001b[0m\u001b[0mrecall_CU\u001b[0m\u001b[0;34m,\u001b[0m \u001b[0mprecision_CU\u001b[0m\u001b[0;34m)\u001b[0m\u001b[0;34m\u001b[0m\u001b[0;34m\u001b[0m\u001b[0m\n\u001b[1;32m      4\u001b[0m \u001b[0mplt\u001b[0m\u001b[0;34m.\u001b[0m\u001b[0mshow\u001b[0m\u001b[0;34m(\u001b[0m\u001b[0;34m)\u001b[0m\u001b[0;34m\u001b[0m\u001b[0;34m\u001b[0m\u001b[0m\n",
      "\u001b[0;31mNameError\u001b[0m: name 'recall_SO' is not defined"
     ]
    }
   ],
   "metadata": {}
  },
  {
   "cell_type": "markdown",
   "source": [
    "* On remarque que l'air sous la  courbe de recall et precision du modéle entrainé avec les données reéchantillonées en sur-échantillonage synthetique est plus proche de 1 par rapport au deux autres modéle dévellopés avec les deux autres méthodes de reéchantillonage, ce qui montre que le sur-échantillonage synthetic est la meilleure méthode pour équilibrer les données dans notre cas avec le meilleur ratio = 1 .\n"
   ],
   "metadata": {}
  },
  {
   "cell_type": "markdown",
   "source": [
    "## **Conclusion**"
   ],
   "metadata": {}
  },
  {
   "cell_type": "markdown",
   "source": [
    "* Vu que : l'accuracy, la precision , le recall, l'air sous la courbe de l'application de classic Oversampling et classic Undersampling sont moins bon par rapport au résultat de l'application du model sur le résultats des données de la méthode synthetic oversampling, on choisie les résultats de cette déniére."
   ],
   "metadata": {}
  },
  {
   "cell_type": "code",
   "execution_count": null,
   "source": [],
   "outputs": [],
   "metadata": {}
  }
 ],
 "metadata": {
  "kernelspec": {
   "name": "python3",
   "display_name": "Python 3.8.10 64-bit"
  },
  "language_info": {
   "codemirror_mode": {
    "name": "ipython",
    "version": 3
   },
   "file_extension": ".py",
   "mimetype": "text/x-python",
   "name": "python",
   "nbconvert_exporter": "python",
   "pygments_lexer": "ipython3",
   "version": "3.8.10"
  },
  "interpreter": {
   "hash": "916dbcbb3f70747c44a77c7bcd40155683ae19c65e1c03b4aa3499c5328201f1"
  }
 },
 "nbformat": 4,
 "nbformat_minor": 5
}