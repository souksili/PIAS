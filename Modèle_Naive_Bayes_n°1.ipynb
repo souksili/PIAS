{
 "cells": [
  {
   "cell_type": "markdown",
   "id": "aaa94bc9",
   "metadata": {},
   "source": [
    "# **Naive bayes for spam filter**"
   ]
  },
  {
   "cell_type": "code",
   "execution_count": 25,
   "id": "6861c3a0",
   "metadata": {},
   "outputs": [
    {
     "name": "stderr",
     "output_type": "stream",
     "text": [
      "[nltk_data] Downloading package stopwords to /home/idir/nltk_data...\n",
      "[nltk_data]   Package stopwords is already up-to-date!\n"
     ]
    }
   ],
   "source": [
    "import numpy as np\n",
    "import matplotlib.pyplot as plt\n",
    "import pandas as pd\n",
    "import seaborn as sn\n",
    "import re\n",
    "import nltk\n",
    "nltk.download('stopwords')\n",
    "from nltk.corpus import stopwords\n",
    "import string\n",
    "from sklearn.metrics import accuracy_score\n"
   ]
  },
  {
   "cell_type": "markdown",
   "id": "1d12f80e",
   "metadata": {},
   "source": [
    "## **Read the File**"
   ]
  },
  {
   "cell_type": "code",
   "execution_count": 11,
   "id": "531e19e7",
   "metadata": {},
   "outputs": [],
   "source": [
    "df = pd.read_csv(\"spam_ham_dataset.csv\")"
   ]
  },
  {
   "cell_type": "code",
   "execution_count": 12,
   "id": "ff23e35d",
   "metadata": {},
   "outputs": [
    {
     "data": {
      "text/html": [
       "<div>\n",
       "<style scoped>\n",
       "    .dataframe tbody tr th:only-of-type {\n",
       "        vertical-align: middle;\n",
       "    }\n",
       "\n",
       "    .dataframe tbody tr th {\n",
       "        vertical-align: top;\n",
       "    }\n",
       "\n",
       "    .dataframe thead th {\n",
       "        text-align: right;\n",
       "    }\n",
       "</style>\n",
       "<table border=\"1\" class=\"dataframe\">\n",
       "  <thead>\n",
       "    <tr style=\"text-align: right;\">\n",
       "      <th></th>\n",
       "      <th>id</th>\n",
       "      <th>label</th>\n",
       "      <th>text</th>\n",
       "      <th>label_num</th>\n",
       "    </tr>\n",
       "  </thead>\n",
       "  <tbody>\n",
       "    <tr>\n",
       "      <th>0</th>\n",
       "      <td>605</td>\n",
       "      <td>ham</td>\n",
       "      <td>Subject: enron methanol ; meter # : 988291\\nth...</td>\n",
       "      <td>0</td>\n",
       "    </tr>\n",
       "    <tr>\n",
       "      <th>1</th>\n",
       "      <td>2349</td>\n",
       "      <td>ham</td>\n",
       "      <td>Subject: hpl nom for january 9 , 2001\\n( see a...</td>\n",
       "      <td>0</td>\n",
       "    </tr>\n",
       "    <tr>\n",
       "      <th>2</th>\n",
       "      <td>3624</td>\n",
       "      <td>ham</td>\n",
       "      <td>Subject: neon retreat\\nho ho ho , we ' re arou...</td>\n",
       "      <td>0</td>\n",
       "    </tr>\n",
       "    <tr>\n",
       "      <th>3</th>\n",
       "      <td>4685</td>\n",
       "      <td>spam</td>\n",
       "      <td>Subject: photoshop , windows , office . cheap ...</td>\n",
       "      <td>1</td>\n",
       "    </tr>\n",
       "    <tr>\n",
       "      <th>4</th>\n",
       "      <td>2030</td>\n",
       "      <td>ham</td>\n",
       "      <td>Subject: re : indian springs\\nthis deal is to ...</td>\n",
       "      <td>0</td>\n",
       "    </tr>\n",
       "  </tbody>\n",
       "</table>\n",
       "</div>"
      ],
      "text/plain": [
       "     id label                                               text  label_num\n",
       "0   605   ham  Subject: enron methanol ; meter # : 988291\\nth...          0\n",
       "1  2349   ham  Subject: hpl nom for january 9 , 2001\\n( see a...          0\n",
       "2  3624   ham  Subject: neon retreat\\nho ho ho , we ' re arou...          0\n",
       "3  4685  spam  Subject: photoshop , windows , office . cheap ...          1\n",
       "4  2030   ham  Subject: re : indian springs\\nthis deal is to ...          0"
      ]
     },
     "execution_count": 12,
     "metadata": {},
     "output_type": "execute_result"
    }
   ],
   "source": [
    "df.head(5)"
   ]
  },
  {
   "cell_type": "code",
   "execution_count": 5,
   "id": "08a2580d",
   "metadata": {},
   "outputs": [
    {
     "name": "stderr",
     "output_type": "stream",
     "text": [
      "/home/idir/.local/lib/python3.8/site-packages/seaborn/_decorators.py:36: FutureWarning: Pass the following variable as a keyword arg: x. From version 0.12, the only valid positional argument will be `data`, and passing other arguments without an explicit keyword will result in an error or misinterpretation.\n",
      "  warnings.warn(\n"
     ]
    },
    {
     "data": {
      "text/plain": [
       "<AxesSubplot:xlabel='label', ylabel='count'>"
      ]
     },
     "execution_count": 5,
     "metadata": {},
     "output_type": "execute_result"
    },
    {
     "data": {
      "image/png": "[encoded data removed]",
      "text/plain": [
       "<Figure size 432x288 with 1 Axes>"
      ]
     },
     "metadata": {
      "needs_background": "light"
     },
     "output_type": "display_data"
    }
   ],
   "source": [
    "sn.countplot(df[\"label\"])"
   ]
  },
  {
   "cell_type": "markdown",
   "id": "7f910375",
   "metadata": {},
   "source": [
    "## **Remove unnecessary columns**"
   ]
  },
  {
   "cell_type": "code",
   "execution_count": 6,
   "id": "12225946",
   "metadata": {},
   "outputs": [],
   "source": [
    "df.drop(\"id\",axis=1,inplace=True)\n",
    "df.drop(\"label_num\",axis=1,inplace=True)"
   ]
  },
  {
   "cell_type": "markdown",
   "id": "93037a31",
   "metadata": {},
   "source": [
    "## **Data Cleaning**\n",
    "#### 1. *Remove Syntax*\n",
    "#### 2. *Lowering Case*\n",
    "#### 3. *Split Into An Array Of Word*\n",
    "#### 4. *Remove StopWords*"
   ]
  },
  {
   "cell_type": "code",
   "execution_count": 7,
   "id": "633cb29a",
   "metadata": {},
   "outputs": [],
   "source": [
    "def clean(df): \n",
    "    dsc =  df.copy()\n",
    "    dsc[\"text\"] = dsc[\"text\"].str.translate(str.maketrans('', '', string.punctuation))\n",
    "    dsc[\"text\"] = dsc[\"text\"].str.lower()\n",
    "    dsc[\"text\"] = dsc[\"text\"].str.split()\n",
    "    dsc[\"text\"]=[[word for word in k if word not in stopwords.words('english')]for k in dsc[\"text\"]]\n",
    "    return dsc"
   ]
  },
  {
   "cell_type": "code",
   "execution_count": 8,
   "id": "26d8cac9",
   "metadata": {},
   "outputs": [],
   "source": [
    "\n",
    "dsc = clean(df)"
   ]
  },
  {
   "cell_type": "markdown",
   "id": "8cf44e62",
   "metadata": {},
   "source": [
    "### *Remove the word 'subject' which is repeated in all emails*"
   ]
  },
  {
   "cell_type": "code",
   "execution_count": 9,
   "id": "30bbc1e6",
   "metadata": {},
   "outputs": [],
   "source": [
    "for mail in dsc['text']:\n",
    "    mail.pop(0)\n"
   ]
  },
  {
   "cell_type": "code",
   "execution_count": 14,
   "id": "154d2a99",
   "metadata": {},
   "outputs": [
    {
     "data": {
      "text/html": [
       "<div>\n",
       "<style scoped>\n",
       "    .dataframe tbody tr th:only-of-type {\n",
       "        vertical-align: middle;\n",
       "    }\n",
       "\n",
       "    .dataframe tbody tr th {\n",
       "        vertical-align: top;\n",
       "    }\n",
       "\n",
       "    .dataframe thead th {\n",
       "        text-align: right;\n",
       "    }\n",
       "</style>\n",
       "<table border=\"1\" class=\"dataframe\">\n",
       "  <thead>\n",
       "    <tr style=\"text-align: right;\">\n",
       "      <th></th>\n",
       "      <th>label</th>\n",
       "      <th>text</th>\n",
       "    </tr>\n",
       "  </thead>\n",
       "  <tbody>\n",
       "    <tr>\n",
       "      <th>0</th>\n",
       "      <td>ham</td>\n",
       "      <td>[enron, methanol, meter, 988291, follow, note,...</td>\n",
       "    </tr>\n",
       "    <tr>\n",
       "      <th>1</th>\n",
       "      <td>ham</td>\n",
       "      <td>[hpl, nom, january, 9, 2001, see, attached, fi...</td>\n",
       "    </tr>\n",
       "    <tr>\n",
       "      <th>2</th>\n",
       "      <td>ham</td>\n",
       "      <td>[neon, retreat, ho, ho, ho, around, wonderful,...</td>\n",
       "    </tr>\n",
       "    <tr>\n",
       "      <th>3</th>\n",
       "      <td>spam</td>\n",
       "      <td>[photoshop, windows, office, cheap, main, tren...</td>\n",
       "    </tr>\n",
       "    <tr>\n",
       "      <th>4</th>\n",
       "      <td>ham</td>\n",
       "      <td>[indian, springs, deal, book, teco, pvr, reven...</td>\n",
       "    </tr>\n",
       "  </tbody>\n",
       "</table>\n",
       "</div>"
      ],
      "text/plain": [
       "  label                                               text\n",
       "0   ham  [enron, methanol, meter, 988291, follow, note,...\n",
       "1   ham  [hpl, nom, january, 9, 2001, see, attached, fi...\n",
       "2   ham  [neon, retreat, ho, ho, ho, around, wonderful,...\n",
       "3  spam  [photoshop, windows, office, cheap, main, tren...\n",
       "4   ham  [indian, springs, deal, book, teco, pvr, reven..."
      ]
     },
     "execution_count": 14,
     "metadata": {},
     "output_type": "execute_result"
    }
   ],
   "source": [
    "dsc.head(5)"
   ]
  },
  {
   "cell_type": "markdown",
   "id": "ce376a5a",
   "metadata": {},
   "source": [
    "### *Randomize the data set*"
   ]
  },
  {
   "cell_type": "code",
   "execution_count": 15,
   "id": "4e44f7d1",
   "metadata": {},
   "outputs": [],
   "source": [
    "data_randomized = dsc.sample(frac=1, random_state=42)"
   ]
  },
  {
   "cell_type": "markdown",
   "id": "012e24a3",
   "metadata": {},
   "source": [
    "### *Split into  training  and test set*"
   ]
  },
  {
   "cell_type": "code",
   "execution_count": 16,
   "id": "49f06d89",
   "metadata": {},
   "outputs": [],
   "source": [
    "training_test_index = round(len(data_randomized) * 0.8)\n",
    "training_set = data_randomized[:training_test_index].reset_index(drop=True)\n",
    "test_set = data_randomized[training_test_index:].reset_index(drop=True)"
   ]
  },
  {
   "cell_type": "code",
   "execution_count": 17,
   "id": "0450aca3",
   "metadata": {},
   "outputs": [],
   "source": [
    "X_train = training_set['text']\n",
    "X_test  = test_set['text']\n",
    "\n",
    "Y_train = training_set['label']\n",
    "Y_test  = test_set['label']"
   ]
  },
  {
   "cell_type": "markdown",
   "id": "7c5ad1ef",
   "metadata": {},
   "source": [
    "## **Build a bag of words**"
   ]
  },
  {
   "cell_type": "code",
   "execution_count": 18,
   "id": "cc9ec9f6",
   "metadata": {},
   "outputs": [],
   "source": [
    "vocabulary = list(set(X_train.sum()))\n",
    "len_voc = len(vocabulary)"
   ]
  },
  {
   "cell_type": "markdown",
   "id": "06cf6164",
   "metadata": {},
   "source": [
    "## **Calculate the probabilities**"
   ]
  },
  {
   "cell_type": "code",
   "execution_count": 19,
   "id": "b46865de",
   "metadata": {},
   "outputs": [],
   "source": [
    "\n",
    "\n",
    "spam_messages = X_train[Y_train == 'spam'] \n",
    "ham_messages = X_train[Y_train == 'ham'] \n",
    "\n",
    "N_spam = len(spam_messages)\n",
    "N_ham = len(ham_messages)\n",
    "P_spam = len(spam_messages) / len(X_train)\n",
    "P_ham = len(ham_messages) / len(X_train)\n",
    "\n",
    "Nb_words_in_spam = spam_messages.apply(len).sum()\n",
    "Nb_words_in_ham = ham_messages.apply(len).sum()\n",
    "\n"
   ]
  },
  {
   "cell_type": "code",
   "execution_count": 20,
   "id": "c3769e6d",
   "metadata": {},
   "outputs": [],
   "source": [
    "words_spam_frequency = {vocabulary[i]: 0 for i in range(len_voc)}\n",
    "words_ham_frequency ={vocabulary[i]: 0 for i in range(len_voc)}\n",
    "\n",
    "for mail in spam_messages:\n",
    " for mot in mail: \n",
    "     words_spam_frequency [mot] += 1\n",
    "for mail in ham_messages:\n",
    " for mot in mail: \n",
    "     words_ham_frequency [mot] += 1\n",
    "\n"
   ]
  },
  {
   "cell_type": "markdown",
   "id": "6f754e84",
   "metadata": {},
   "source": [
    "## **Classify**"
   ]
  },
  {
   "cell_type": "code",
   "execution_count": 21,
   "id": "7a46d4fd",
   "metadata": {},
   "outputs": [],
   "source": [
    "def p_w_spam(word , alpha):\n",
    "    if word in words_spam_frequency:\n",
    "        return (words_spam_frequency[word] + alpha)/(Nb_words_in_spam + alpha * len_voc)\n",
    "    else:\n",
    "        return 1  \n",
    "\n",
    "def p_w_ham(word,alpha):\n",
    "    if word in words_ham_frequency:\n",
    "        return (words_ham_frequency[word] + alpha)/(Nb_words_in_ham + alpha * len_voc)\n",
    "    else:\n",
    "        return 1  "
   ]
  },
  {
   "cell_type": "code",
   "execution_count": 22,
   "id": "5c0a92ad",
   "metadata": {},
   "outputs": [],
   "source": [
    "def predict(mail,alpha):\n",
    "    PS = P_spam\n",
    "    PH = P_ham\n",
    "    for word in mail:\n",
    "        PS *=p_w_spam(word,alpha)\n",
    "        PH *=p_w_ham(word,alpha)\n",
    "    if PS > PH:\n",
    "        return 'spam'\n",
    "    else:\n",
    "        return 'ham'"
   ]
  },
  {
   "cell_type": "markdown",
   "id": "822a4a24",
   "metadata": {},
   "source": [
    "## **Optimize alpha hyperparameter**"
   ]
  },
  {
   "cell_type": "code",
   "execution_count": 26,
   "id": "9513941f",
   "metadata": {},
   "outputs": [],
   "source": [
    "alpha_test = [accuracy_score(Y_test.values,[predict(mot,i) for mot in X_test.values]) for i in range (30)]"
   ]
  },
  {
   "cell_type": "code",
   "execution_count": 27,
   "id": "284dd619",
   "metadata": {},
   "outputs": [
    {
     "data": {
      "text/plain": [
       "Text(0.5, 1.0, 'Accuracy en fonction de alpha')"
      ]
     },
     "execution_count": 27,
     "metadata": {},
     "output_type": "execute_result"
    },
    {
     "data": {
      "image/png": "[encoded data removed]",
      "text/plain": [
       "<Figure size 432x288 with 1 Axes>"
      ]
     },
     "metadata": {
      "needs_background": "light"
     },
     "output_type": "display_data"
    }
   ],
   "source": [
    "X = [i for i in range(30)]\n",
    "\n",
    "plt.plot(X,alpha_test, color = 'red', linestyle = 'solid', linewidth = 2,\n",
    " markerfacecolor = 'blue', markersize = 5)\n",
    "plt.xlim(0,30)\n",
    "plt.xlabel('Alpha')\n",
    "plt.ylabel('accuracy')\n",
    "\n",
    "plt.title('Accuracy en fonction de alpha')"
   ]
  },
  {
   "cell_type": "markdown",
   "id": "25544ab7",
   "metadata": {},
   "source": [
    "**The best value of alpha is 1**"
   ]
  },
  {
   "cell_type": "code",
   "execution_count": 28,
   "id": "aa71bb9e",
   "metadata": {},
   "outputs": [],
   "source": [
    "Alpha = 1"
   ]
  },
  {
   "cell_type": "code",
   "execution_count": 29,
   "id": "b632b44f",
   "metadata": {},
   "outputs": [],
   "source": [
    "y_pred = [predict(mot,Alpha) for mot in X_test.values]"
   ]
  },
  {
   "cell_type": "code",
   "execution_count": 31,
   "id": "a3656855",
   "metadata": {},
   "outputs": [
    {
     "data": {
      "text/plain": [
       "0.8936170212765957"
      ]
     },
     "execution_count": 31,
     "metadata": {},
     "output_type": "execute_result"
    }
   ],
   "source": [
    "accuracy_score(Y_test.values,y_pred)"
   ]
  },
  {
   "cell_type": "code",
   "execution_count": 32,
   "id": "38b6b8e6",
   "metadata": {},
   "outputs": [
    {
     "data": {
      "image/png": "[encoded data removed]",
      "text/plain": [
       "<Figure size 432x288 with 2 Axes>"
      ]
     },
     "metadata": {
      "needs_background": "light"
     },
     "output_type": "display_data"
    }
   ],
   "source": [
    "\n",
    "data = {'y_Actual':    Y_test.values,\n",
    "        'y_Predicted': y_pred\n",
    "        }\n",
    "d = pd.DataFrame(data, columns=['y_Actual','y_Predicted'])\n",
    "confusion_matrix = pd.crosstab(d['y_Actual'], d['y_Predicted'], rownames=['Actual'], colnames=['Predicted'])\n",
    "sn.heatmap(confusion_matrix, annot=True,fmt='d',xticklabels=['ham','spam'], yticklabels=['ham','spam'])\n",
    "plt.show()"
   ]
  },
  {
   "cell_type": "code",
   "execution_count": 33,
   "id": "8dfa65a1",
   "metadata": {},
   "outputs": [],
   "source": [
    "sorted_word_ham = {k: v for k, v in sorted(words_spam_frequency.items(),reverse = True, key=lambda item: item[1] )}"
   ]
  },
  {
   "cell_type": "markdown",
   "id": "feeb5bea",
   "metadata": {},
   "source": [
    "## *Optimize the hyperparameter: the size of the training set*"
   ]
  },
  {
   "cell_type": "code",
   "execution_count": 34,
   "id": "6ee06dd1",
   "metadata": {},
   "outputs": [],
   "source": [
    "def model_accuracy(df,trainig_size):\n",
    "    data_randomized = dsc.sample(frac=1, random_state=42)\n",
    "    training_test_index = round(len(data_randomized) * trainig_size)\n",
    "    test_index = len(data_randomized) -round(len(data_randomized) * 0.3)\n",
    "    training_set = data_randomized[:training_test_index].reset_index(drop=True)\n",
    "    test_set = data_randomized[test_index:].reset_index(drop=True)\n",
    "    print(len(training_set))\n",
    "   \n",
    "   \n",
    "    X_train = training_set['text']\n",
    "    X_test  = test_set['text']\n",
    "    Y_train = training_set['label']\n",
    "    Y_test  = test_set['label']\n",
    "\n",
    "    vocabulary = list(set(X_train.sum()))\n",
    "    len_voc = len(vocabulary)\n",
    "\n",
    "    spam_messages = X_train[Y_train == 'spam'] \n",
    "    ham_messages = X_train[Y_train == 'ham'] \n",
    "\n",
    "    N_spam = len(spam_messages)\n",
    "    N_ham = len(ham_messages)\n",
    "    P_spam = len(spam_messages) / len(X_train)\n",
    "    P_ham = len(ham_messages) / len(X_train)\n",
    "\n",
    "    Nb_words_in_spam = spam_messages.apply(len).sum()\n",
    "    Nb_words_in_ham = ham_messages.apply(len).sum()\n",
    "\n",
    "    words_spam_frequency = {vocabulary[i]: 0 for i in range(len_voc)}\n",
    "    words_ham_frequency ={vocabulary[i]: 0 for i in range(len_voc)}\n",
    "\n",
    "    for sms in spam_messages:\n",
    "        for mot in sms: \n",
    "            words_spam_frequency [mot] += 1\n",
    "    for sms in ham_messages:\n",
    "        for mot in sms: \n",
    "            words_ham_frequency [mot] += 1\n",
    "\n",
    "    def p_w_spam(word , alpha):\n",
    "        if word in words_spam_frequency:\n",
    "            return (words_spam_frequency[word] + alpha)/(Nb_words_in_spam + alpha * len_voc)\n",
    "        else:\n",
    "            return 1  \n",
    "\n",
    "    def p_w_ham(word,alpha):\n",
    "        if word in words_ham_frequency:\n",
    "            return (words_ham_frequency[word] + alpha)/(Nb_words_in_ham + alpha * len_voc)\n",
    "        else:\n",
    "            return 1 \n",
    "    def predict(mail,alpha):\n",
    "        PS = P_spam\n",
    "        PH = P_ham\n",
    "        for word in mail:\n",
    "            PS *=p_w_spam(word,alpha)\n",
    "            PH *=p_w_ham(word,alpha)\n",
    "        if PS > PH:\n",
    "            return 'spam'\n",
    "        else:\n",
    "            return 'ham'\n",
    "    y_pred = [predict(mot,Alpha) for mot in X_test.values]\n",
    "    return [Y_test.values,y_pred]\n",
    "    \n",
    "    \n",
    "     "
   ]
  },
  {
   "cell_type": "code",
   "execution_count": 35,
   "id": "6ba6ef85",
   "metadata": {},
   "outputs": [
    {
     "name": "stdout",
     "output_type": "stream",
     "text": [
      "517\n",
      "1034\n",
      "1551\n",
      "2068\n",
      "2586\n",
      "3103\n",
      "3620\n",
      "4137\n",
      "4654\n",
      "5171\n"
     ]
    }
   ],
   "source": [
    "\n",
    "X = [i/10.0 for i in range(1,11)]\n",
    "res = [model_accuracy(dsc,k) for k in X]"
   ]
  },
  {
   "cell_type": "code",
   "execution_count": 36,
   "id": "b3be5403",
   "metadata": {},
   "outputs": [],
   "source": [
    "Y = [accuracy_score(x[0],x[1]) for x in res]"
   ]
  },
  {
   "cell_type": "code",
   "execution_count": 37,
   "id": "f34b3e44",
   "metadata": {},
   "outputs": [
    {
     "name": "stdout",
     "output_type": "stream",
     "text": [
      "              precision    recall  f1-score   support\n",
      "\n",
      "         ham       1.00      0.88      0.93      1232\n",
      "        spam       0.67      0.99      0.80       319\n",
      "\n",
      "    accuracy                           0.90      1551\n",
      "   macro avg       0.84      0.93      0.87      1551\n",
      "weighted avg       0.93      0.90      0.91      1551\n",
      "\n"
     ]
    }
   ],
   "source": [
    "from sklearn.metrics import classification_report\n",
    "print(classification_report(res[0][1],res[0][0]))"
   ]
  },
  {
   "cell_type": "code",
   "execution_count": 38,
   "id": "0ce99b5a",
   "metadata": {},
   "outputs": [],
   "source": [
    "spam_score = [float(classification_report(x[1], x[0]).split()[10]) for x in res]\n",
    "ham_score = [float(classification_report(x[1], x[0]).split()[5]) for x in res]"
   ]
  },
  {
   "cell_type": "code",
   "execution_count": 39,
   "id": "4fab8adb",
   "metadata": {},
   "outputs": [
    {
     "data": {
      "text/plain": [
       "Text(0.5, 1.0, 'Accuracy en fonction de la taille du training set')"
      ]
     },
     "execution_count": 39,
     "metadata": {},
     "output_type": "execute_result"
    },
    {
     "data": {
      "image/png": "[encoded data removed]",
      "text/plain": [
       "<Figure size 432x288 with 1 Axes>"
      ]
     },
     "metadata": {
      "needs_background": "light"
     },
     "output_type": "display_data"
    }
   ],
   "source": [
    "plt.plot(X,Y , color = 'red', linestyle = 'solid', linewidth = 2,\n",
    " markerfacecolor = 'red', markersize = 5)\n",
    "plt.xlabel('trainig_set size')\n",
    "plt.ylabel('accuracy')\n",
    "plt.title('Accuracy en fonction de la taille du training set')"
   ]
  },
  {
   "cell_type": "markdown",
   "id": "41a62d91",
   "metadata": {},
   "source": [
    "## **Leger overfiting**\n",
    "####  **  *On pas besoin de beaceaup de mail pour arriver à une precision correcte avec ce model* \n",
    "####  ** *On remarque aussi que aucun mail n'est classifier comme un spam*"
   ]
  },
  {
   "cell_type": "code",
   "execution_count": 40,
   "id": "7eb07cf5",
   "metadata": {},
   "outputs": [
    {
     "data": {
      "image/png": "[encoded data removed]",
      "text/plain": [
       "<Figure size 432x288 with 2 Axes>"
      ]
     },
     "metadata": {
      "needs_background": "light"
     },
     "output_type": "display_data"
    }
   ],
   "source": [
    "data = {'y_Actual':    res[1][0],\n",
    "        'y_Predicted': res[1][1]\n",
    "        }\n",
    "d = pd.DataFrame(data, columns=['y_Actual','y_Predicted'])\n",
    "confusion_matrix = pd.crosstab(d['y_Actual'], d['y_Predicted'], rownames=['Actual'], colnames=['Predicted'])\n",
    "sn.heatmap(confusion_matrix, annot=True,fmt='d',xticklabels=['ham','spam'], yticklabels=['ham','spam'])\n",
    "plt.show()"
   ]
  }
 ],
 "metadata": {
  "kernelspec": {
   "display_name": "Python 3",
   "language": "python",
   "name": "python3"
  },
  "language_info": {
   "codemirror_mode": {
    "name": "ipython",
    "version": 3
   },
   "file_extension": ".py",
   "mimetype": "text/x-python",
   "name": "python",
   "nbconvert_exporter": "python",
   "pygments_lexer": "ipython3",
   "version": "3.8.10"
  }
 },
 "nbformat": 4,
 "nbformat_minor": 5
}
