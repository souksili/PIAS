{
 "cells": [
  {
   "cell_type": "code",
   "execution_count": 1,
   "metadata": {},
   "outputs": [],
   "source": [
    "import numpy as np\n",
    "import matplotlib.pyplot as plt\n",
    "import pandas as pd\n",
    "import seaborn as sn\n",
    "\n",
    "from sklearn.svm import SVC\n",
    "from collections import Counter\n",
    "from sklearn.metrics import classification_report,confusion_matrix\n",
    "from sklearn.model_selection import GridSearchCV"
   ]
  },
  {
   "cell_type": "markdown",
   "id": "1d12f80e",
   "metadata": {},
   "source": [
    "## **Open the File**\n",
    "* On recupere uniquement les 2 features dont on a besoin : le texte et le label"
   ]
  },
  {
   "cell_type": "code",
   "execution_count": 2,
   "id": "531e19e7",
   "metadata": {},
   "outputs": [],
   "source": [
    "columns = [\"text\",\"label\" ]\n",
    "dsc = pd.read_csv(\"spam_ham_dataset.csv\", usecols=columns)"
   ]
  },
  {
   "cell_type": "markdown",
   "id": "6e11ed8f",
   "metadata": {},
   "source": [
    "## **Show DataFrame**"
   ]
  },
  {
   "cell_type": "code",
   "execution_count": 3,
   "id": "d167c767",
   "metadata": {},
   "outputs": [
    {
     "data": {
      "text/html": [
       "<div>\n",
       "<style scoped>\n",
       "    .dataframe tbody tr th:only-of-type {\n",
       "        vertical-align: middle;\n",
       "    }\n",
       "\n",
       "    .dataframe tbody tr th {\n",
       "        vertical-align: top;\n",
       "    }\n",
       "\n",
       "    .dataframe thead th {\n",
       "        text-align: right;\n",
       "    }\n",
       "</style>\n",
       "<table border=\"1\" class=\"dataframe\">\n",
       "  <thead>\n",
       "    <tr style=\"text-align: right;\">\n",
       "      <th></th>\n",
       "      <th>label</th>\n",
       "      <th>text</th>\n",
       "    </tr>\n",
       "  </thead>\n",
       "  <tbody>\n",
       "    <tr>\n",
       "      <th>0</th>\n",
       "      <td>ham</td>\n",
       "      <td>Subject: enron methanol ; meter # : 988291\\nth...</td>\n",
       "    </tr>\n",
       "    <tr>\n",
       "      <th>1</th>\n",
       "      <td>ham</td>\n",
       "      <td>Subject: hpl nom for january 9 , 2001\\n( see a...</td>\n",
       "    </tr>\n",
       "    <tr>\n",
       "      <th>2</th>\n",
       "      <td>ham</td>\n",
       "      <td>Subject: neon retreat\\nho ho ho , we ' re arou...</td>\n",
       "    </tr>\n",
       "    <tr>\n",
       "      <th>3</th>\n",
       "      <td>spam</td>\n",
       "      <td>Subject: photoshop , windows , office . cheap ...</td>\n",
       "    </tr>\n",
       "    <tr>\n",
       "      <th>4</th>\n",
       "      <td>ham</td>\n",
       "      <td>Subject: re : indian springs\\nthis deal is to ...</td>\n",
       "    </tr>\n",
       "    <tr>\n",
       "      <th>5</th>\n",
       "      <td>ham</td>\n",
       "      <td>Subject: ehronline web address change\\nthis me...</td>\n",
       "    </tr>\n",
       "    <tr>\n",
       "      <th>6</th>\n",
       "      <td>ham</td>\n",
       "      <td>Subject: spring savings certificate - take 30 ...</td>\n",
       "    </tr>\n",
       "    <tr>\n",
       "      <th>7</th>\n",
       "      <td>spam</td>\n",
       "      <td>Subject: looking for medication ? we ` re the ...</td>\n",
       "    </tr>\n",
       "    <tr>\n",
       "      <th>8</th>\n",
       "      <td>ham</td>\n",
       "      <td>Subject: noms / actual flow for 2 / 26\\nwe agr...</td>\n",
       "    </tr>\n",
       "    <tr>\n",
       "      <th>9</th>\n",
       "      <td>ham</td>\n",
       "      <td>Subject: nominations for oct . 21 - 23 , 2000\\...</td>\n",
       "    </tr>\n",
       "  </tbody>\n",
       "</table>\n",
       "</div>"
      ],
      "text/plain": [
       "  label                                               text\n",
       "0   ham  Subject: enron methanol ; meter # : 988291\\nth...\n",
       "1   ham  Subject: hpl nom for january 9 , 2001\\n( see a...\n",
       "2   ham  Subject: neon retreat\\nho ho ho , we ' re arou...\n",
       "3  spam  Subject: photoshop , windows , office . cheap ...\n",
       "4   ham  Subject: re : indian springs\\nthis deal is to ...\n",
       "5   ham  Subject: ehronline web address change\\nthis me...\n",
       "6   ham  Subject: spring savings certificate - take 30 ...\n",
       "7  spam  Subject: looking for medication ? we ` re the ...\n",
       "8   ham  Subject: noms / actual flow for 2 / 26\\nwe agr...\n",
       "9   ham  Subject: nominations for oct . 21 - 23 , 2000\\..."
      ]
     },
     "execution_count": 3,
     "metadata": {},
     "output_type": "execute_result"
    }
   ],
   "source": [
    "dsc.head(10)"
   ]
  },
  {
   "cell_type": "markdown",
   "id": "6a72b659",
   "metadata": {},
   "source": [
    "## **Vectorization**"
   ]
  },
  {
   "cell_type": "markdown",
   "id": "4b58e557",
   "metadata": {},
   "source": [
    "* On importe les bibliothèques nécessaires :\n",
    "    * pandas pour visualiser la matrice\n",
    "    * sklearn.feature_extraction.text est une bib sklearn qui permet d'effectuer la vectorisation."
   ]
  },
  {
   "cell_type": "code",
   "execution_count": 4,
   "id": "2e023900",
   "metadata": {},
   "outputs": [],
   "source": [
    "import pandas as pd\n",
    "from sklearn.feature_extraction.text import CountVectorizer"
   ]
  },
  {
   "cell_type": "markdown",
   "id": "3045f312",
   "metadata": {},
   "source": [
    "* Lors de la construction du vocabulaire, on ignore les termes qui ont une fréquence d'apparition dans les messages strictement supérieure à max_df = 0.5. Cela est utilisé pour exclure les termes trop fréquents et peu susceptibles d'aider à prédire si le message est un spam ou pas.\n",
    "* Les stops_words sont les mots qui n'ajoutent pas beaucoup de sens à un message. Ils peuvent être ignorés en toute sécurité sans sacrifier la probabilité qu'il soit un email ou un spam."
   ]
  },
  {
   "cell_type": "code",
   "execution_count": 5,
   "id": "347b90ef",
   "metadata": {},
   "outputs": [],
   "source": [
    "vectorization = CountVectorizer(stop_words=\"english\", analyzer='word', max_df=0.5)"
   ]
  },
  {
   "cell_type": "markdown",
   "id": "52d43e84",
   "metadata": {},
   "source": [
    "* On transforme les messages en une matrice :\n",
    "    * colonne : tous les mots uniques qui restent dans le dataset après le nettoyage.\n",
    "    * ligne : chaque message est représenté par la fréquence de chaque mot unique du dataset dans ce dernier."
   ]
  },
  {
   "cell_type": "code",
   "execution_count": 6,
   "id": "47212dd0",
   "metadata": {},
   "outputs": [
    {
     "data": {
      "text/plain": [
       "array([[1, 0, 0, ..., 0, 0, 0],\n",
       "       [0, 0, 0, ..., 0, 0, 0],\n",
       "       [0, 0, 0, ..., 0, 0, 0],\n",
       "       ...,\n",
       "       [0, 0, 0, ..., 0, 0, 0],\n",
       "       [0, 0, 0, ..., 0, 0, 0],\n",
       "       [0, 0, 0, ..., 0, 0, 0]], dtype=int64)"
      ]
     },
     "execution_count": 6,
     "metadata": {},
     "output_type": "execute_result"
    }
   ],
   "source": [
    "dsc_transform = vectorization.fit_transform(dsc['text'])\n",
    "dsc_transform.toarray()"
   ]
  },
  {
   "cell_type": "markdown",
   "id": "dbe8fb76",
   "metadata": {},
   "source": [
    "## **TF IDF**"
   ]
  },
  {
   "cell_type": "markdown",
   "id": "6d8e759b",
   "metadata": {},
   "source": [
    "* On calcule les scores tf-idf pour chaque vecteur message\n",
    "* L'objectif est de réduire l'impact des tokens qui se produisent très fréquemment et qui sont les moins informatifs.\n"
   ]
  },
  {
   "cell_type": "code",
   "execution_count": 7,
   "id": "156ea76c",
   "metadata": {},
   "outputs": [
    {
     "name": "stdout",
     "output_type": "stream",
     "text": [
      "  (0, 49868)\t0.17088898608193356\n",
      "  (0, 47604)\t0.11821593192893892\n",
      "  (0, 38455)\t0.18666831144816473\n",
      "  (0, 37277)\t0.20123955317833062\n",
      "  (0, 37033)\t0.17209706971799887\n",
      "  (0, 36555)\t0.20123955317833062\n",
      "  (0, 36490)\t0.20978078403310857\n",
      "  (0, 36121)\t0.23055522783618063\n",
      "  (0, 34299)\t0.27330543408117375\n",
      "  (0, 33380)\t0.22479297735598006\n",
      "  (0, 33042)\t0.1476510784519107\n",
      "  (0, 32458)\t0.1562188801795666\n",
      "  (0, 31571)\t0.14956817850477694\n",
      "  (0, 30887)\t0.20055501621598545\n",
      "  (0, 30880)\t0.1041975796260656\n",
      "  (0, 21659)\t0.20337505881567966\n",
      "  (0, 21604)\t0.09037700965820925\n",
      "  (0, 20754)\t0.16130080548810127\n",
      "  (0, 20643)\t0.1265104463781404\n",
      "  (0, 18639)\t0.08131741283827591\n",
      "  (0, 17826)\t0.23936421908614594\n",
      "  (0, 15225)\t0.1656474920193137\n",
      "  (0, 15168)\t0.093893958747034\n",
      "  (0, 15070)\t0.26523225144220586\n",
      "  (0, 13882)\t0.1610740722190895\n",
      "  :\t:\n",
      "  (5170, 20756)\t0.04456930672884609\n",
      "  (5170, 20350)\t0.06507122513059675\n",
      "  (5170, 19771)\t0.0862885436394368\n",
      "  (5170, 19502)\t0.06940658187452702\n",
      "  (5170, 16946)\t0.053333924478709875\n",
      "  (5170, 15402)\t0.06698864900391065\n",
      "  (5170, 13833)\t0.08070244674193605\n",
      "  (5170, 13830)\t0.06003846627029896\n",
      "  (5170, 13558)\t0.06871749626710653\n",
      "  (5170, 13555)\t0.12381887711447642\n",
      "  (5170, 13439)\t0.0721466823533591\n",
      "  (5170, 13242)\t0.16903532349445294\n",
      "  (5170, 13201)\t0.08693559461784284\n",
      "  (5170, 13122)\t0.05700953909653933\n",
      "  (5170, 12642)\t0.050501523052878486\n",
      "  (5170, 12459)\t0.3248394670993472\n",
      "  (5170, 11935)\t0.11747228090795339\n",
      "  (5170, 8604)\t0.07588962516697305\n",
      "  (5170, 8142)\t0.42835799588230394\n",
      "  (5170, 8139)\t0.21776636131119106\n",
      "  (5170, 7528)\t0.06905756398566247\n",
      "  (5170, 6815)\t0.07328087009264206\n",
      "  (5170, 5896)\t0.0780788986773915\n",
      "  (5170, 4981)\t0.36289229944280493\n",
      "  (5170, 268)\t0.03414500885358528\n"
     ]
    }
   ],
   "source": [
    "from sklearn.feature_extraction.text import TfidfTransformer\n",
    "dsc_tfidf = TfidfTransformer().fit_transform(dsc_transform)\n",
    "print(dsc_tfidf)"
   ]
  },
  {
   "cell_type": "markdown",
   "id": "f9095c6d",
   "metadata": {},
   "source": [
    "* On affiche les valeurs tf idf d'un message quelconque.\n"
   ]
  },
  {
   "cell_type": "code",
   "execution_count": 8,
   "id": "c8a22ec7",
   "metadata": {},
   "outputs": [
    {
     "name": "stderr",
     "output_type": "stream",
     "text": [
      "C:\\Users\\LATITUDE\\AppData\\Local\\Programs\\Python\\Python39\\lib\\site-packages\\sklearn\\utils\\deprecation.py:87: FutureWarning: Function get_feature_names is deprecated; get_feature_names is deprecated in 1.0 and will be removed in 1.2. Please use get_feature_names_out instead.\n",
      "  warnings.warn(msg, category=FutureWarning)\n"
     ]
    },
    {
     "data": {
      "text/html": [
       "<div>\n",
       "<style scoped>\n",
       "    .dataframe tbody tr th:only-of-type {\n",
       "        vertical-align: middle;\n",
       "    }\n",
       "\n",
       "    .dataframe tbody tr th {\n",
       "        vertical-align: top;\n",
       "    }\n",
       "\n",
       "    .dataframe thead th {\n",
       "        text-align: right;\n",
       "    }\n",
       "</style>\n",
       "<table border=\"1\" class=\"dataframe\">\n",
       "  <thead>\n",
       "    <tr style=\"text-align: right;\">\n",
       "      <th></th>\n",
       "      <th>tfidf</th>\n",
       "    </tr>\n",
       "  </thead>\n",
       "  <tbody>\n",
       "    <tr>\n",
       "      <th>hplnol</th>\n",
       "      <td>0.719446</td>\n",
       "    </tr>\n",
       "    <tr>\n",
       "      <th>09</th>\n",
       "      <td>0.391852</td>\n",
       "    </tr>\n",
       "    <tr>\n",
       "      <th>xls</th>\n",
       "      <td>0.375525</td>\n",
       "    </tr>\n",
       "    <tr>\n",
       "      <th>january</th>\n",
       "      <td>0.224160</td>\n",
       "    </tr>\n",
       "    <tr>\n",
       "      <th>file</th>\n",
       "      <td>0.183356</td>\n",
       "    </tr>\n",
       "    <tr>\n",
       "      <th>...</th>\n",
       "      <td>...</td>\n",
       "    </tr>\n",
       "    <tr>\n",
       "      <th>distributorship</th>\n",
       "      <td>0.000000</td>\n",
       "    </tr>\n",
       "    <tr>\n",
       "      <th>district</th>\n",
       "      <td>0.000000</td>\n",
       "    </tr>\n",
       "    <tr>\n",
       "      <th>disturb</th>\n",
       "      <td>0.000000</td>\n",
       "    </tr>\n",
       "    <tr>\n",
       "      <th>disturbance</th>\n",
       "      <td>0.000000</td>\n",
       "    </tr>\n",
       "    <tr>\n",
       "      <th>zzsyt</th>\n",
       "      <td>0.000000</td>\n",
       "    </tr>\n",
       "  </tbody>\n",
       "</table>\n",
       "<p>50139 rows × 1 columns</p>\n",
       "</div>"
      ],
      "text/plain": [
       "                    tfidf\n",
       "hplnol           0.719446\n",
       "09               0.391852\n",
       "xls              0.375525\n",
       "january          0.224160\n",
       "file             0.183356\n",
       "...                   ...\n",
       "distributorship  0.000000\n",
       "district         0.000000\n",
       "disturb          0.000000\n",
       "disturbance      0.000000\n",
       "zzsyt            0.000000\n",
       "\n",
       "[50139 rows x 1 columns]"
      ]
     },
     "execution_count": 8,
     "metadata": {},
     "output_type": "execute_result"
    }
   ],
   "source": [
    "noms_feature = vectorization.get_feature_names() \n",
    "\n",
    "#On récupère le vecteur tfidf pour le premier message \n",
    "msg_tfidf = dsc_tfidf[1] \n",
    "\n",
    "#On affiche les scores\n",
    "df = pd.DataFrame(msg_tfidf.T.todense(), index=noms_feature, columns=[\"tfidf\"]) \n",
    "df.sort_values(by=[\"tfidf\"],ascending=False)"
   ]
  },
  {
   "cell_type": "markdown",
   "id": "918e0143",
   "metadata": {},
   "source": [
    "## TRAIN TEST SPLIT"
   ]
  },
  {
   "cell_type": "markdown",
   "id": "cb2f858d",
   "metadata": {},
   "source": [
    "* Maintenant, on dévise la matrice de vecteur tf-idf en sous-ensembles d'entraînement et de test aléatoires.\n",
    "* On a va répartir le dataset comme suivant : 70% pour train et 30% pour test."
   ]
  },
  {
   "cell_type": "code",
   "execution_count": 9,
   "metadata": {},
   "outputs": [],
   "source": [
    "from sklearn.model_selection import train_test_split\n",
    "X_train, X_test, y_train, y_test = train_test_split(dsc_tfidf, dsc[\"label\"], test_size=0.3, random_state = 1)     "
   ]
  },
  {
   "cell_type": "markdown",
   "id": "86c3536d",
   "metadata": {},
   "source": [
    "## Support Vector Classification (SVC)"
   ]
  },
  {
   "cell_type": "markdown",
   "id": "55bac9d5",
   "metadata": {},
   "source": [
    "* On utilise la méthode SVC pour ajuster le modèle en fonction des données d'entraînement données."
   ]
  },
  {
   "cell_type": "code",
   "execution_count": 10,
   "id": "3883e771",
   "metadata": {},
   "outputs": [
    {
     "name": "stdout",
     "output_type": "stream",
     "text": [
      "predicted ['ham' 'ham' 'spam' ... 'spam' 'spam' 'ham']\n"
     ]
    }
   ],
   "source": [
    "clf = SVC(kernel='linear').fit(X_train, y_train)\n",
    "y_pred = clf.predict(X_test)\n",
    "print('predicted', y_pred)"
   ]
  },
  {
   "cell_type": "markdown",
   "id": "4245f2cf",
   "metadata": {},
   "source": [
    "## Score"
   ]
  },
  {
   "cell_type": "markdown",
   "id": "7a93d213",
   "metadata": {},
   "source": [
    "* On peut voir qu'on a un score très élévé 0.99"
   ]
  },
  {
   "cell_type": "code",
   "execution_count": 11,
   "id": "78c3d8a5",
   "metadata": {},
   "outputs": [
    {
     "name": "stdout",
     "output_type": "stream",
     "text": [
      "              precision    recall  f1-score   support\n",
      "\n",
      "         ham       1.00      0.99      1.00      1101\n",
      "        spam       0.98      1.00      0.99       451\n",
      "\n",
      "    accuracy                           0.99      1552\n",
      "   macro avg       0.99      0.99      0.99      1552\n",
      "weighted avg       0.99      0.99      0.99      1552\n",
      "\n"
     ]
    }
   ],
   "source": [
    "from sklearn.metrics import classification_report\n",
    "print (classification_report(y_test, y_pred))"
   ]
  },
  {
   "cell_type": "markdown",
   "id": "b4fbfd57",
   "metadata": {},
   "source": [
    "## Matrice de confusion"
   ]
  },
  {
   "cell_type": "markdown",
   "id": "40519cea",
   "metadata": {},
   "source": [
    "* D'après la matrice on peut voir que sur plus de 1500 messages, il y a uniquement 1 spam déclaré comme ham et 9 ham délarés comme spam."
   ]
  },
  {
   "cell_type": "code",
   "execution_count": 12,
   "id": "f5f046af",
   "metadata": {},
   "outputs": [
    {
     "data": {
      "image/png": "[encoded data removed]",
      "text/plain": [
       "<Figure size 432x288 with 2 Axes>"
      ]
     },
     "metadata": {
      "needs_background": "light"
     },
     "output_type": "display_data"
    }
   ],
   "source": [
    "data = {'y_Actual':    y_test.values,\n",
    "        'y_Predicted': y_pred\n",
    "        }\n",
    "d = pd.DataFrame(data, columns=['y_Actual','y_Predicted'])\n",
    "confusion_matrix = pd.crosstab(d['y_Actual'], d['y_Predicted'], rownames=['Actual'], colnames=['Predicted'])\n",
    "sn.heatmap(confusion_matrix, annot=True,fmt='d',xticklabels=['ham','spam'], yticklabels=['ham','spam'])\n",
    "plt.show()"
   ]
  }
 ],
 "metadata": {
  "kernelspec": {
   "display_name": "Python 3",
   "language": "python",
   "name": "python3"
  },
  "language_info": {
   "codemirror_mode": {
    "name": "ipython",
    "version": 3
   },
   "file_extension": ".py",
   "mimetype": "text/x-python",
   "name": "python",
   "nbconvert_exporter": "python",
   "pygments_lexer": "ipython3",
   "version": "3.9.2"
  }
 },
 "nbformat": 4,
 "nbformat_minor": 5
}
